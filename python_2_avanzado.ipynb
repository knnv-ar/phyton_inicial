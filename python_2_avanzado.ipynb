{
 "cells": [
  {
   "cell_type": "markdown",
   "metadata": {},
   "source": [
    "# Python - Nivel avanzado\n",
    "\n",
    "por *Raúl Federico Lacabanne* (Universidad Nacional de las Artes | Universidad Nacional de Quilmes)\n",
    "\n",
    "Traducción y adaptación del curso [Intermediate Python Programming Course](https://youtu.be/HGOBQPFzWKo) de Patrick Loeber desarrollado para freeCodeCamp."
   ]
  },
  {
   "cell_type": "markdown",
   "metadata": {},
   "source": [
    "## Índice\n",
    "\n",
    "1. [Introducción](#1-introducción)\n",
    "2. Lists\n",
    "3. Tuples\n",
    "4. Dictionaries\n",
    "5. Sets\n",
    "6. Strings\n",
    "7. Collections\n",
    "8. Itertools\n",
    "9. Lambda Functions\n",
    "10. Exceptions and Errors\n",
    "11. Logging\n",
    "12. JSON\n",
    "13. Random Numbers\n",
    "14. Decorators\n",
    "15. Generators\n",
    "16. Threading vs Multiprocessing\n",
    "17. Multithreading\n",
    "18. Multiprocessing\n",
    "19. Function Arguments\n",
    "20. The Asterisk (*) Operator\n",
    "21. Shallow vs Deep Copying\n",
    "22. Context Managers"
   ]
  },
  {
   "cell_type": "markdown",
   "metadata": {},
   "source": [
    "## 1. Introducción\n",
    "\n",
    "Lorem ipsum... :"
   ]
  },
  {
   "cell_type": "code",
   "execution_count": null,
   "metadata": {},
   "outputs": [],
   "source": [
    "print(\"Hola mundo\")"
   ]
  }
 ],
 "metadata": {
  "kernelspec": {
   "display_name": "Python 3",
   "language": "python",
   "name": "python3"
  },
  "language_info": {
   "codemirror_mode": {
    "name": "ipython",
    "version": 3
   },
   "file_extension": ".py",
   "mimetype": "text/x-python",
   "name": "python",
   "nbconvert_exporter": "python",
   "pygments_lexer": "ipython3",
   "version": "3.10.4"
  },
  "orig_nbformat": 4
 },
 "nbformat": 4,
 "nbformat_minor": 2
}
