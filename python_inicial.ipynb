{
 "cells": [
  {
   "cell_type": "markdown",
   "metadata": {},
   "source": [
    "# Python - Nivel inicial\n",
    "por Raúl Federico Lacabanne - Artes Multimediales 4 - UNA"
   ]
  },
  {
   "cell_type": "markdown",
   "metadata": {},
   "source": [
    "## Comenzamos este viaje\n",
    "\n",
    "Para empezar comencemos viendo cómo podemos imprimir un texto en pantalla. Para eso usaremos la función `print()`:"
   ]
  },
  {
   "cell_type": "code",
   "execution_count": null,
   "metadata": {},
   "outputs": [],
   "source": [
    "print(\"Hola mundo\")"
   ]
  },
  {
   "cell_type": "markdown",
   "metadata": {},
   "source": [
    "## 1. Funciones\n",
    "\n",
    "Las **funciones** se *definen* y se *invocan*:"
   ]
  },
  {
   "cell_type": "code",
   "execution_count": 3,
   "metadata": {},
   "outputs": [
    {
     "name": "stdout",
     "output_type": "stream",
     "text": [
      "Hola!\n"
     ]
    }
   ],
   "source": [
    "# Definición de una función\n",
    "def saludo():\n",
    "    print (\"Hola!\")\n",
    "\n",
    "# Invocación de (o llamada a) una función\n",
    "saludo()"
   ]
  },
  {
   "cell_type": "markdown",
   "metadata": {},
   "source": [
    "Las funciones pueden devolver valores cuando finalizan su ejecución mediante la palabra clave `return`:"
   ]
  },
  {
   "cell_type": "code",
   "execution_count": null,
   "metadata": {},
   "outputs": [],
   "source": [
    "# Definición de una función\n",
    "def saludo():\n",
    "    return \"Hola!\"\n",
    "\n",
    "print(saludo())"
   ]
  },
  {
   "cell_type": "markdown",
   "metadata": {},
   "source": [
    "1. Funciones\n",
    "2. Variables\n",
    "3. Expresiones\n",
    "4. Instrucciones\n",
    "5. Comentarios\n",
    "6. Sangría\n",
    "7. Tipos de dato\n",
    "8. Operadores aritméticos\n",
    "9. Operadores de comparación\n",
    "10. Operadores booleanos\n",
    "11. Operadores bit a bit (bitwise operators)\n",
    "12. Operadores is e in (is & in operators)\n",
    "13. Operador ternario (ternary operator)\n",
    "14. Cadenas de texto\n",
    "15. Métodos de cadenas de textos\n",
    "16. Caracteres de escape (para agregar caracteres especial a una cadena)\n",
    "17. Caracteres de cadena y corte (String characters and slicing)\n",
    "18. Booleanas\n",
    "19. Tipos de datos numéricos\n",
    "20. Funciones globales utiles para los números\n",
    "21. Enums (usado para crear constantes)\n",
    "22. USER INPUT\n",
    "23. Listas\n",
    "24. Tuplas\n",
    "25. Diccionarios [1:53:50]"
   ]
  },
  {
   "cell_type": "markdown",
   "metadata": {},
   "source": [
    "## 2. Variables\n",
    "\n",
    "Ahora vamos con las **tuplas**.\n",
    "\n",
    "Regla de las variables:\n",
    "\n",
    "1. Tienen que comenzar con un caracter alfabético o un guión bajo (`_`).\n",
    "\n",
    "2. Sólo pueden contener caracteres alfanuméricos y/o guiones bajos `_`.\n",
    "\n",
    "3. Los nombres de varibles son sensibles a mayúusculas/minúsculas.\n",
    "\n",
    "Las variables tiene tres componentes:\n",
    "\n",
    "- nombre\n",
    "- valor\n",
    "- identidad"
   ]
  },
  {
   "cell_type": "code",
   "execution_count": null,
   "metadata": {},
   "outputs": [],
   "source": [
    "# Inmutable\n",
    "print(\"Tipos de dato inmutables: cadenas de texto\")\n",
    "print(\"******************************************\")\n",
    "a = \"gato\"\n",
    "print(a)\n",
    "print(\"La dirección en memoria de a es: \" + str(id(a)) + \"\\n\")\n",
    "\n",
    "a = \"perro\"\n",
    "print(a)\n",
    "print(\"La dirección en memoria de a es: \" + str(id(a)) + \"\\n\")\n",
    "\n",
    "# Mutable\n",
    "print(\"Tipos de dato mutables: listas\")\n",
    "print(\"******************************\")\n",
    "b = [1,2,3,4,5]\n",
    "print(b)\n",
    "print(\"La dirección en memoria de a es: \" + str(id(b)) + \"\\n\")\n",
    "\n",
    "b[0] = 10\n",
    "print(b)\n",
    "print(\"La dirección en memoria de a es: \" + str(id(b)) + \"\\n\")\n"
   ]
  },
  {
   "cell_type": "markdown",
   "metadata": {},
   "source": [
    "## 7. Tipos de dato\n",
    "\n",
    "Ahora vamos con las **tuplas**.\n",
    "\n",
    "Regla de las variables:\n",
    "\n",
    "| Ejemplo                                 | Tipo de dato | Persistencia |\n",
    "|-----------------------------------------|---------------|-------------|\n",
    "| x = \"Hello World\"                      | str           | inmutable |\n",
    "| x = 20                                  | int           | inmutable |\n",
    "| x = 20.5                                | float         | inmutable |\n",
    "| x = 1j                                  | complex       | inmutable |\n",
    "| x = [\"apple\", \"banana\", \"cherry\"]      | list          | mutable |\n",
    "| x = (\"apple\", \"banana\", \"cherry\")      | tuple         | inmutable |\n",
    "| x = range(6)                           | range         | inmutable |\n",
    "| x = {\"name\" : \"John\", \"age\" : 36}      | dict          | mutable |\n",
    "| x = {\"apple\", \"banana\", \"cherry\"}      | set           | mutable |\n",
    "| x = frozenset({\"apple\", \"banana\", \"cherry\"}) | frozenset | inmutable |\n",
    "| x = True                               | bool          | inmutable |\n",
    "| x = b\"Hello\"                           | bytes         | inmutable |\n",
    "| x = bytearray(5)                       | bytearray     | mutable |\n",
    "| x = memoryview(bytes(5))               | memoryview    | mutable |\n",
    "| x = None                               | NoneType      | na |\n",
    "\n",
    "\n",
    "## Tipos de datos para almacenar colecciones de datos\n",
    "\n",
    "### Lista\n",
    "`x = [\"apple\", \"banana\", \"cherry\"]`\n",
    "\n",
    "### Tupla\n",
    "`x = (\"apple\", \"banana\", \"cherry\")`\n",
    "\n",
    "### Diccionario\n",
    "`x = {\"name\" : \"John\", \"age\" : 36}`\n",
    "\n",
    "### Conjunto\n",
    "`x = {\"apple\", \"banana\", \"cherry\"}`\n",
    "\n",
    "### Conjunto congelado\n",
    "`x = frozenset({\"apple\", \"banana\", \"cherry\"})`"
   ]
  },
  {
   "cell_type": "markdown",
   "metadata": {},
   "source": [
    "## 24. Tuplas\n",
    "\n",
    "Ahora vamos con las **tuplas**.\n",
    "\n",
    "Las **tuplas** son estructuras de datos que permiten crear grupos de objetos inmutables.\n",
    "\n",
    "Esto significa que una vez que hayamos creado una tupla, esta no puede ser modificada (ni cambiar el valor de los elementos, ni agregar, ni eliminar otros elementos).\n",
    "\n",
    "Para crear una tupla usamos paréntesis."
   ]
  },
  {
   "cell_type": "code",
   "execution_count": null,
   "metadata": {},
   "outputs": [],
   "source": [
    "inmortales = (\"Hera\", \"Zeus\", \"Hebe\", \"Ares\", \"Ilitía\")\n",
    "print(inmortales)\n",
    "print(inmortales[2]) \n",
    "print(inmortales.index(\"Hebe\"))\n",
    "print(inmortales[-1])\n",
    "print(len(inmortales))"
   ]
  },
  {
   "cell_type": "markdown",
   "metadata": {},
   "source": [
    "También podemos hacer:"
   ]
  },
  {
   "cell_type": "code",
   "execution_count": null,
   "metadata": {},
   "outputs": [],
   "source": [
    "inmortales = (\"Hera\", \"Zeus\", \"Hebe\", \"Ares\", \"Ilitía\")\n",
    "print(inmortales)\n",
    "print(\"Heracles\" in inmortales)\n",
    "print(inmortales[1:4])\n",
    "print(sorted(inmortales))"
   ]
  },
  {
   "cell_type": "markdown",
   "metadata": {},
   "source": [
    "Por último, puedo crear una tupla utilizando una tupla previa mediante el operador de asignación:"
   ]
  },
  {
   "cell_type": "code",
   "execution_count": null,
   "metadata": {},
   "outputs": [],
   "source": [
    "inmortales2 = (\"Hera\", \"Zeus\")\n",
    "print(inmortales2)\n",
    "\n",
    "inmortales2 += (\"Hebe\", \"Ares\", \"Ilitía\")\n",
    "print(inmortales2)"
   ]
  },
  {
   "cell_type": "markdown",
   "metadata": {},
   "source": [
    "## 25. Diccionarios\n",
    "\n",
    "Llegó el turno de los **diccionarios**. Estos son parte de las estructuras de datos de Python.\n",
    "\n",
    "> Los **diccionarios** permiten *crear múltiples pares clave-valor*. El contenido de la *clave* será *inmutable*."
   ]
  },
  {
   "cell_type": "code",
   "execution_count": null,
   "metadata": {},
   "outputs": [],
   "source": [
    "artista = { \"nombre\": \"Clara\", \"disciplina\": \"teatro\", \"obras_realizadas\": 12 }\n",
    "print(artista[\"disciplina\"])\n",
    "\n",
    "print(artista[\"obras_realizadas\"])\n",
    "artista[\"obras_realizadas\"] = 13\n",
    "print(artista[\"obras_realizadas\"])\n",
    "\n",
    "print(len(artista))"
   ]
  },
  {
   "cell_type": "code",
   "execution_count": null,
   "metadata": {},
   "outputs": [],
   "source": [
    "#Método .get() . Si no encuentra la clave solicitada, puede devolver un valor por defecto.\n",
    "print(artista.get(\"nombre\"))\n",
    "print(artista.get(\"edad\", \"La clave solicitada no se encuentra en el sistema\"))"
   ]
  },
  {
   "cell_type": "code",
   "execution_count": null,
   "metadata": {},
   "outputs": [],
   "source": [
    "#Método .pop(): devuelve el valor asociado a la clave y la borra del diccionario.\n",
    "print(artista.pop(\"disciplina\"))\n",
    "print(artista)"
   ]
  },
  {
   "cell_type": "code",
   "execution_count": null,
   "metadata": {},
   "outputs": [],
   "source": [
    "#Método .popitem(): devuelve el valor asociado a la última clave del diccionario y la borra.\n",
    "print(artista.popitem())\n",
    "print(artista)"
   ]
  },
  {
   "cell_type": "code",
   "execution_count": null,
   "metadata": {},
   "outputs": [],
   "source": [
    "#Usar la palabra clave _in_ para comprobar si una clave se encuentra en un diccionario.\n",
    "print(\"nombre\" in artista)"
   ]
  },
  {
   "cell_type": "code",
   "execution_count": null,
   "metadata": {},
   "outputs": [],
   "source": [
    "# Para listar todas las claves de un diccionario.\n",
    "artista = { \"nombre\": \"Clara\", \"disciplina\": \"teatro\", \"obras_realizadas\": 12 }\n",
    "print(artista.keys())\n",
    "\n",
    "# O bien pasarlas como lista\n",
    "artista = { \"nombre\": \"Clara\", \"disciplina\": \"teatro\", \"obras_realizadas\": 12 }\n",
    "print(list(artista.keys()))"
   ]
  },
  {
   "cell_type": "code",
   "execution_count": null,
   "metadata": {},
   "outputs": [],
   "source": [
    "# Para listar todos los valores de un diccionario.\n",
    "artista = { \"nombre\": \"Clara\", \"disciplina\": \"teatro\", \"obras_realizadas\": 12 }\n",
    "print(artista.values())\n",
    "\n",
    "# O bien pasarlos como lista\n",
    "artista = { \"nombre\": \"Clara\", \"disciplina\": \"teatro\", \"obras_realizadas\": 12 }\n",
    "print(list(artista.values()))"
   ]
  },
  {
   "cell_type": "code",
   "execution_count": null,
   "metadata": {},
   "outputs": [],
   "source": [
    "# Para listar todos los items de un diccionario.\n",
    "artista = { \"nombre\": \"Clara\", \"disciplina\": \"teatro\", \"obras_realizadas\": 12 }\n",
    "print(artista.items())\n",
    "\n",
    "# O bien pasarlos como lista\n",
    "artista = { \"nombre\": \"Clara\", \"disciplina\": \"teatro\", \"obras_realizadas\": 12 }\n",
    "print(list(artista.items()))"
   ]
  },
  {
   "cell_type": "code",
   "execution_count": null,
   "metadata": {},
   "outputs": [],
   "source": [
    "# Para agregar un item a un diccionario.\n",
    "artista = { \"nombre\": \"Clara\", \"disciplina\": \"teatro\", \"obras_realizadas\": 12 }\n",
    "artista[\"en_actividad\"] = True\n",
    "print(artista)"
   ]
  },
  {
   "cell_type": "code",
   "execution_count": null,
   "metadata": {},
   "outputs": [],
   "source": [
    "# Para eliminar un item de un diccionario.\n",
    "del artista[\"en_actividad\"]\n",
    "print(artista)"
   ]
  },
  {
   "cell_type": "code",
   "execution_count": null,
   "metadata": {},
   "outputs": [],
   "source": [
    "# Para realizar una copia de un diccionario.\n",
    "artista_copia = artista.copy()\n",
    "print(artista_copia)"
   ]
  },
  {
   "cell_type": "markdown",
   "metadata": {},
   "source": [
    "## 26. Conjuntos (sets)\n",
    "\n",
    "Veremos qué se entiendo por **conjuntos**. Estos permiten almacenar múltiples elementos en una sola variable, de forma no ordenada y son mutables, es decir se puede cambiar su contenido.\n",
    "\n",
    "También se pueden entender como diccionarios sin claves.\n",
    "\n",
    "Pero hay una versión de conjunto que se denomina **conjunto congelado** que es inmutable."
   ]
  },
  {
   "cell_type": "code",
   "execution_count": null,
   "metadata": {},
   "outputs": [],
   "source": [
    "materiales1 = {\"madera\", \"roca\", \"vidrio\", \"hierro\"}\n",
    "materiales2 = {\"madera\", \"cartón\", \"electrónica\", \"vidrio\"}\n",
    "\n",
    "# Interseción de conjuntos\n",
    "intersect = materiales1 & materiales2\n",
    "print(intersect)\n",
    "\n",
    "# Unión de conjuntos\n",
    "union = materiales1 | materiales2\n",
    "print(union)\n",
    "\n",
    "# Diferencia de conjuntos\n",
    "diferencia = materiales1 - materiales2\n",
    "print(diferencia)\n",
    "\n",
    "# Superconjuntos y subconjuntos\n",
    "materiales3 = {\"madera\", \"roca\", \"vidrio\", \"hierro\"}\n",
    "materiales4 = {\"madera\", \"vidrio\"}\n",
    "m3_es_superconjunto_de_m4 = materiales3 > materiales4\n",
    "print(m3_es_superconjunto_de_m4)"
   ]
  },
  {
   "cell_type": "markdown",
   "metadata": {},
   "source": [
    "Por supuesto que es posible utilizar la función `len()`, utilizar `list()` para generar una lista de un conjunto, utilizar la palabra clave `in` para corroborar si algún elemento se encuentra en el conjunto."
   ]
  },
  {
   "cell_type": "markdown",
   "metadata": {},
   "source": [
    "> Algo muy importante a tomar en cuenta: en un conjunto no puede haber elementos repetidos."
   ]
  },
  {
   "cell_type": "code",
   "execution_count": null,
   "metadata": {},
   "outputs": [],
   "source": [
    "conjunto1 = {\"unicornios\", \"caballos\", \"cebras\", \"unicornios\"}\n",
    "print(conjunto1)"
   ]
  },
  {
   "cell_type": "markdown",
   "metadata": {},
   "source": [
    "## 26. Funciones\n",
    "\n",
    "Una **función** nos permite crear un conjunto de instrucciones que podemos ejecutar cuando las necesitemos.\n",
    "\n",
    "En la *definición* de las funciones, el cuerpo (o bloque) de instrucciones está marcada por la *indentación* que puede ser de dos espacios o cuatro espacios.\n",
    "\n",
    "Por ejemplo:"
   ]
  },
  {
   "cell_type": "code",
   "execution_count": null,
   "metadata": {},
   "outputs": [],
   "source": [
    "# Recuerden que para cadenas de texto se puede utilizar comillas simples o dobles.\n",
    "# Lo importante es ser consistente con su uso.\n",
    "def saludo():\n",
    "  print(\"¡Hola!\")"
   ]
  },
  {
   "cell_type": "markdown",
   "metadata": {},
   "source": [
    "Y cada vez que la quiero utilizar la llamo de la siguiente manera:"
   ]
  },
  {
   "cell_type": "code",
   "execution_count": null,
   "metadata": {},
   "outputs": [],
   "source": [
    "saludo()"
   ]
  },
  {
   "cell_type": "markdown",
   "metadata": {},
   "source": [
    "Una función puede aceptar uno o más parámetros si es necesario:"
   ]
  },
  {
   "cell_type": "code",
   "execution_count": null,
   "metadata": {},
   "outputs": [],
   "source": [
    "# nombre es un parámetro\n",
    "def saludo2(nombre):\n",
    "  print(\"¡Hola \" + nombre + \"!\")"
   ]
  },
  {
   "cell_type": "code",
   "execution_count": null,
   "metadata": {},
   "outputs": [],
   "source": [
    "# Ana, Clara o Pedro son argumentos.\n",
    "saludo2(\"Ana\")\n",
    "saludo2(\"Clara\")\n",
    "saludo2(\"Pedro\")"
   ]
  },
  {
   "cell_type": "markdown",
   "metadata": {},
   "source": [
    "Si no pasamos ningún argumento a la función anterior, nos devolverá un mensaje de error.\n",
    "\n",
    "Para subsanar esto podemos incluir un **valor por defecto** al parámetro requerido:"
   ]
  },
  {
   "cell_type": "code",
   "execution_count": null,
   "metadata": {},
   "outputs": [],
   "source": [
    "def saludo3(nombre = \"amigo mío\"):\n",
    "  print(\"¡Hola \" + nombre + \"!\")\n",
    "\n",
    "saludo3(\"Juan\")\n",
    "saludo3()"
   ]
  },
  {
   "cell_type": "markdown",
   "metadata": {},
   "source": [
    "Otro ejemplo de función pero con dos parámetros:"
   ]
  },
  {
   "cell_type": "code",
   "execution_count": null,
   "metadata": {},
   "outputs": [],
   "source": [
    "def saludo4(nombre, edad):\n",
    "  print(\"¡Hola \" + nombre + \", tu tienes \" + str(edad) + \" de edad!\")\n",
    "\n",
    "saludo4(\"Juan\", 22)"
   ]
  },
  {
   "cell_type": "code",
   "execution_count": null,
   "metadata": {},
   "outputs": [],
   "source": [
    "def cambio(valor):\n",
    "  valor = 2\n",
    "\n",
    "val = 1\n",
    "cambio(val)\n",
    "\n",
    "print(val)"
   ]
  },
  {
   "cell_type": "markdown",
   "metadata": {},
   "source": [
    "En Python tenemos objetos de dos tipos de tipos de datos: los inmutables y los mutables.\n",
    "\n",
    "Los **tipos de datos inmutables** no puden cambiar su valor por afuera de su ámbito de aplicación. Ellos son:\n",
    "\n",
    "- booleanas,\n",
    "- enteros,\n",
    "- decimales,\n",
    "- cadenas de texto,\n",
    "- bytes,\n",
    "- tuplas,\n",
    "- rango, y\n",
    "- conjuntos congelados.\n",
    "\n",
    "Mientras que los **tipos de datos mutables** son:\n",
    "\n",
    "- listas,\n",
    "- diccionarios,\n",
    "- conjuntos,\n",
    "- clases definidas por usuario, y\n",
    "- byte arrays\n",
    "\n",
    "Para más información ver: https://realpython.com/python-mutable-vs-immutable-types/"
   ]
  },
  {
   "cell_type": "code",
   "execution_count": null,
   "metadata": {},
   "outputs": [],
   "source": [
    "def cambio(valor):\n",
    "  valor = 2\n",
    "\n",
    "val = 1\n",
    "cambio(val)\n",
    "\n",
    "print(val)"
   ]
  },
  {
   "cell_type": "markdown",
   "metadata": {},
   "source": [
    "Por otro lado, proponemos el siguiente ejemplo con **tipos de dato mutable** usando el tipo *lista*:"
   ]
  },
  {
   "cell_type": "code",
   "execution_count": null,
   "metadata": {},
   "outputs": [],
   "source": [
    "def cambio(valor):\n",
    "  valor[0] = 10\n",
    "\n",
    "val = [1,2,3]\n",
    "cambio(val)\n",
    "\n",
    "print(val)"
   ]
  },
  {
   "cell_type": "markdown",
   "metadata": {},
   "source": [
    "O bien *diccionario*:"
   ]
  },
  {
   "cell_type": "code",
   "execution_count": null,
   "metadata": {},
   "outputs": [],
   "source": [
    "def cambio(valor):\n",
    "  valor[\"nombre\"] = \"Luz\"\n",
    "\n",
    "val = {\"nombre\": \"Luis\"}\n",
    "cambio(val)\n",
    "\n",
    "print(val)"
   ]
  },
  {
   "cell_type": "markdown",
   "metadata": {},
   "source": [
    "También una función puede devolver un valor:"
   ]
  },
  {
   "cell_type": "code",
   "execution_count": null,
   "metadata": {},
   "outputs": [],
   "source": [
    "def suma(a, b):\n",
    "  suma = a + b\n",
    "  return suma\n",
    "\n",
    "resultado = suma(2,2)\n",
    "print(\"La suma de los dos valores es igual a: \" + str(resultado))"
   ]
  },
  {
   "cell_type": "markdown",
   "metadata": {},
   "source": [
    "a continuación veremos un ejemplo donde usamos **return** para que no devuelva nada si el parámetro *nombre* está vacío:"
   ]
  },
  {
   "cell_type": "code",
   "execution_count": null,
   "metadata": {},
   "outputs": [],
   "source": [
    "def saludo(nombre):\n",
    "  if not nombre:\n",
    "    return\n",
    "  print(\"Hola \" + nombre + \" !\")\n",
    "\n",
    "saludo(False)\n",
    "saludo(\"Eva\")"
   ]
  },
  {
   "cell_type": "markdown",
   "metadata": {},
   "source": [
    "Por último un ejemplo con un **return** que devuelve *más de un elemento*:"
   ]
  },
  {
   "cell_type": "code",
   "execution_count": null,
   "metadata": {},
   "outputs": [],
   "source": [
    "def saludo(nombre):\n",
    "  print(\"Hola \" + nombre + \" !\")\n",
    "  return nombre, \"Éxitos\", 100\n",
    "\n",
    "mensajes = saludo(\"Juan\")\n",
    "print(mensajes)"
   ]
  },
  {
   "cell_type": "markdown",
   "metadata": {},
   "source": [
    "## 27. Ámbito de variables"
   ]
  },
  {
   "cell_type": "code",
   "execution_count": null,
   "metadata": {},
   "outputs": [],
   "source": [
    "# Variable global\n",
    "\n",
    "edad = 5\n",
    "\n",
    "def imprime_edad():\n",
    "  print(edad)\n",
    "\n",
    "# impresiones\n",
    "print(edad)\n",
    "imprime_edad()"
   ]
  },
  {
   "cell_type": "code",
   "execution_count": null,
   "metadata": {},
   "outputs": [],
   "source": [
    "# Variable local\n",
    "\n",
    "def imprime_edad():\n",
    "  edad2 = 2\n",
    "  print(edad)\n",
    "\n",
    "# impresiones\n",
    "print(edad2)\n",
    "imprime_edad()"
   ]
  },
  {
   "cell_type": "markdown",
   "metadata": {},
   "source": [
    "## 28. Funciones anidadas"
   ]
  },
  {
   "cell_type": "code",
   "execution_count": null,
   "metadata": {},
   "outputs": [],
   "source": [
    "# Función \n",
    "def hablar(frase):\n",
    "  def decir(palabra):\n",
    "    print(palabra)\n",
    "\n",
    "  palabras = frase.split(\" \")\n",
    "  print(palabras)\n",
    "\n",
    "hablar(\"Esta no es una frase muy pregnante\")"
   ]
  },
  {
   "cell_type": "markdown",
   "metadata": {},
   "source": [
    "El siguiente ejemplo incrementa `valor_actual` que parte de 0 a 1:"
   ]
  },
  {
   "cell_type": "code",
   "execution_count": null,
   "metadata": {},
   "outputs": [],
   "source": [
    "# nonlocal: para establecer que se hace referencia\n",
    "# referencia a una variable no local.\n",
    "def contar():\n",
    "  valor_actual = 0\n",
    "\n",
    "  def incremento():\n",
    "    nonlocal valor_actual\n",
    "    valor_actual += 1\n",
    "    print(valor_actual)\n",
    "\n",
    "  incremento()\n",
    "\n",
    "contar()"
   ]
  },
  {
   "cell_type": "markdown",
   "metadata": {},
   "source": [
    "## 29. Clausuras (closures)\n",
    "\n",
    "En el siguiente ejemplo veamos cómo devolvemos la función `incremento` sin los paréntesis."
   ]
  },
  {
   "cell_type": "code",
   "execution_count": null,
   "metadata": {},
   "outputs": [],
   "source": [
    "# Cierres\n",
    "def contador():\n",
    "  valor_actual = 0\n",
    "\n",
    "  def incremento():\n",
    "    nonlocal valor_actual\n",
    "    valor_actual += 1\n",
    "    return valor_actual\n",
    "\n",
    "  return incremento\n",
    "\n",
    "incremento = contador()\n",
    "\n",
    "print(incremento())\n",
    "print(incremento())\n",
    "print(incremento())"
   ]
  },
  {
   "cell_type": "markdown",
   "metadata": {},
   "source": [
    "## 30. Objetos\n",
    "\n",
    "Todo en Python es un objeto, esto incluye los tipos de dato primitivos.\n",
    "\n",
    "Los objetos tienen **atributos** y **métodos**, y se puede acceder a ellos a través de la **sintaxis de punto**."
   ]
  },
  {
   "cell_type": "code",
   "execution_count": null,
   "metadata": {},
   "outputs": [],
   "source": [
    "edad = 5\n",
    "\n",
    "print(edad.real)\n",
    "print(edad.imag)\n",
    "print(edad.bit_length())\n",
    "\n",
    "print()\n",
    "\n",
    "items = [1, 2]\n",
    "items.append(3)\n",
    "items.pop()\n",
    "print(id(items))"
   ]
  },
  {
   "cell_type": "markdown",
   "metadata": {},
   "source": [
    "Es importante recordar la condición de mutabilidad e inmutabilidad que afecta a los objetos. Hay objetos que son mutables y otros inmutables, y tendrán métodos que permitan o no dichos cambios."
   ]
  },
  {
   "cell_type": "markdown",
   "metadata": {},
   "source": [
    "## 31. Funciones de primera clase (first-class functions)\n",
    "\n",
    "\n",
    "Fuente: https://youtu.be/kr0mpwqttM0?si=iBow4m5CnmiTtjyR"
   ]
  },
  {
   "cell_type": "code",
   "execution_count": null,
   "metadata": {},
   "outputs": [],
   "source": [
    "# Funciones de primera clase: tratamiento de variables como funciones\n",
    "# Asignación de una función a una variable\n",
    "\n",
    "def cuadrado(x):\n",
    "  return x * x\n",
    "\n",
    "fn = cuadrado(5) # aquí almaceno en la var fn el resultado de cuadrado(5)\n",
    "print(cuadrado)\n",
    "print(fn)\n",
    "\n",
    "print()\n",
    "\n",
    "fn = cuadrado # ver que no ponemos los paréntesis de la función cuadrado\n",
    "print(cuadrado) # pero aquí almaceno en la var fn la función cuadrado en sí misma\n",
    "print(fn)"
   ]
  },
  {
   "cell_type": "code",
   "execution_count": null,
   "metadata": {},
   "outputs": [],
   "source": [
    "# Ahora trato a la var fn como una función\n",
    "print(fn(5))"
   ]
  },
  {
   "cell_type": "code",
   "execution_count": null,
   "metadata": {},
   "outputs": [],
   "source": [
    "'''\n",
    "// Asignación de una función a una variable - javascript\n",
    "function cuadrado(x) {\n",
    "  return x * x;\n",
    "}\n",
    "\n",
    "let fn = cuadrado(5); // aquí almaceno en la var fn el resultado de cuadrado(5)\n",
    "console.log(cuadrado);\n",
    "console.log(fn);\n",
    "\n",
    "console.log();\n",
    "\n",
    "fn = cuadrado; // ver que no ponemos los paréntesis de la función cuadrado\n",
    "console.log(cuadrado); // pero aquí almaceno en la var fn la función cuadrado en sí misma\n",
    "console.log(fn);\n",
    "'''"
   ]
  },
  {
   "cell_type": "code",
   "execution_count": null,
   "metadata": {
    "vscode": {
     "languageId": "javascript"
    }
   },
   "outputs": [],
   "source": [
    "// Asignación de una función a una variable - javascript\n",
    "function cuadrado(x) {\n",
    "  return x * x;\n",
    "}\n",
    "\n",
    "let fn = cuadrado(5); // aquí almaceno en la var fn el resultado de cuadrado(5)\n",
    "element.text(cuadrado);\n",
    "element.text(fn);\n",
    "\n",
    "element.text();\n",
    "\n",
    "fn = cuadrado; // ver que no ponemos los paréntesis de la función cuadrado\n",
    "element.text(cuadrado); // pero aquí almaceno en la var fn la función cuadrado en sí misma\n",
    "element.text(fn);"
   ]
  },
  {
   "cell_type": "markdown",
   "metadata": {},
   "source": [
    "## 32. Funciones de orden superior (higher-order functions)\n",
    "\n",
    "Cuando hablamos de **funciones de orden superior**, hablamos de funciones que cumplen una de las siguientes dos características:\n",
    "\n",
    "- pasar una función como argumento a otra función, y\n",
    "- devolver funciones como resultado de otras funciones.\n"
   ]
  },
  {
   "cell_type": "code",
   "execution_count": null,
   "metadata": {},
   "outputs": [],
   "source": [
    "# Pasar una función como argumento a otra función\n",
    "'''\n",
    "En este caso la función mi_mapeo acepta una función como\n",
    "primer argumento y luego toma una lista como segundo argumento.\n",
    "IMPORTANTE: observá que cuando llamamos a la función cuadrado\n",
    "(primer argumento de mi_mapeo) lo hacemos sin los paréntesis.\n",
    "Lo hacemos sin los paréntesis porque si no ejecutaría la función\n",
    "en ese momento y queremos aguardar a que la ejecución se realice\n",
    "en resultado.append((func(i))) (vean que aquí sí usamos los\n",
    "paréntesis).\n",
    "'''\n",
    "def cuadrado(x):\n",
    "  return x * x\n",
    "\n",
    "def cubo(x):\n",
    "  return x * x * x\n",
    "\n",
    "def mi_mapeo(func, lista_args):\n",
    "  resultado = []\n",
    "  for i in lista_args:\n",
    "    resultado.append((func(i)))\n",
    "  return resultado\n",
    "\n",
    "cuadrados = mi_mapeo(cuadrado, [1, 2, 3, 4, 5])\n",
    "\n",
    "print(cuadrados)"
   ]
  },
  {
   "cell_type": "code",
   "execution_count": null,
   "metadata": {},
   "outputs": [],
   "source": [
    "'''\n",
    "// Pasar una función como argumento a otra función\n",
    "/*\n",
    "En este caso la función mi_mapeo acepta una función como\n",
    "primer argumento y luego toma una lista como segundo argumento.\n",
    "IMPORTANTE: observá que cuando llamamos a la función cuadrado\n",
    "(primer argumento de mi_mapeo) lo hacemos sin los paréntesis.\n",
    "Lo hacemos sin los paréntesis porque si no ejecutaría la función\n",
    "en ese momento y queremos aguardar a que la ejecución se realice\n",
    "en resultado.append((func(i))) (vean que aquí sí usamos los\n",
    "paréntesis).\n",
    "*/\n",
    "function cuadrado(x) {\n",
    "  return x * x;\n",
    "}\n",
    "\n",
    "function cubo(x) {\n",
    "  return x * x * x;\n",
    "}\n",
    "\n",
    "function mi_mapeo(func, lista_args) {\n",
    "  resultado = [];\n",
    "  for (let i = 1; i <= lista_args.length; i++) {\n",
    "    resultado.push(func(i));\n",
    "  }\n",
    "  return resultado;\n",
    "}\n",
    "\n",
    "let cuadrados = mi_mapeo(cuadrado, [1, 2, 3, 4, 5]);\n",
    "\n",
    "console.log(cuadrados);\n",
    "'''"
   ]
  },
  {
   "cell_type": "code",
   "execution_count": null,
   "metadata": {},
   "outputs": [],
   "source": [
    "# Devolver funciones como resultado de otras funciones\n",
    "'''\n",
    "Observen como return devuelve la función msj_registrador\n",
    "sin los paréntesis, por lo tanto no se ejecuta en ese\n",
    "momento.\n",
    "Por otro lado, la variable registro_saludo almacena la\n",
    "función devuelta por el return (a esto se lo llama \"cierre\").\n",
    "Por último, llamamos a la variable registro_saludo pero\n",
    "esta vez con los paréntesis de forma tal que es tratada\n",
    "como función imprimiento el mensaje \"Registro: ¡Hola!\".\n",
    "'''\n",
    "def registrador(msg):\n",
    "\n",
    "  def msj_registrador():\n",
    "    print('Registro: ', msg)\n",
    "\n",
    "  return msj_registrador\n",
    "\n",
    "registro_saludo = registrador(\"¡Hola!\")\n",
    "registro_saludo()"
   ]
  },
  {
   "cell_type": "code",
   "execution_count": null,
   "metadata": {},
   "outputs": [],
   "source": [
    "'''\n",
    "//Devolver funciones como resultado de otras funciones\n",
    "/*\n",
    "Observen como return devuelve la función msj_registrador\n",
    "sin los paréntesis, por lo tanto no se ejecuta en ese\n",
    "momento.\n",
    "Por otro lado, la variable registro_saludo almacena la\n",
    "función devuelta por el return (a esto se lo llama \"cierre\").\n",
    "Por último, llamamos a la variable registro_saludo pero\n",
    "esta vez con los paréntesis de forma tal que es tratada\n",
    "como función imprimiento el mensaje \"Registro: ¡Hola!\".\n",
    "*/\n",
    "function registrador(msj) {\n",
    "\n",
    "  function msj_registrador() {\n",
    "    console.log('Registro: ' + msj);\n",
    "  }\n",
    "\n",
    "  return msj_registrador;\n",
    "}\n",
    "\n",
    "registro_saludo = registrador(\"¡Hola!\");\n",
    "registro_saludo();\n",
    "'''"
   ]
  },
  {
   "cell_type": "markdown",
   "metadata": {},
   "source": [
    "Veamos un ejemplo de aplicación concreta:"
   ]
  },
  {
   "cell_type": "code",
   "execution_count": null,
   "metadata": {},
   "outputs": [],
   "source": [
    "def etiqueta_html(etiq):\n",
    "\n",
    "  def formatear_texto(msj):\n",
    "    print(\"<{0}>{1}</{0}\".format(etiq, msj))\n",
    "  return formatear_texto\n",
    "\n",
    "imprime_h1 = etiqueta_html(\"h1\")\n",
    "# Probá imprimir imprime_h1 para ver qué devuelve antes de seguir\n",
    "imprime_h1(\"Este es un título h1\")\n",
    "imprime_h1(\"Este es otro título h1\")\n",
    "\n",
    "imprime_p = etiqueta_html(\"p\")\n",
    "imprime_p(\"Este es un párrafo.\")\n"
   ]
  },
  {
   "cell_type": "code",
   "execution_count": null,
   "metadata": {},
   "outputs": [],
   "source": [
    "'''\n",
    "function etiqueta_html(etiq) {\n",
    "\n",
    "  function formatear_texto(msj) {\n",
    "    console.log(\"<\" + etiq + \">\" + msj + \"</\" + etiq + \">\");\n",
    "  }\n",
    "  return formatear_texto\n",
    "}\n",
    "\n",
    "imprime_h1 = etiqueta_html(\"h1\");\n",
    "// Probá imprimir imprime_h1 para ver qué devuelve antes de seguir\n",
    "imprime_h1(\"Este es un título h1\");\n",
    "imprime_h1(\"Este es otro título h1\");\n",
    "\n",
    "imprime_p = etiqueta_html(\"p\");\n",
    "imprime_p(\"Este es un párrafo.\");\n",
    "'''"
   ]
  },
  {
   "cell_type": "markdown",
   "metadata": {},
   "source": [
    "## 33. Clausura (closures)\n",
    "\n",
    "Una **clausura** es un registro que almacena una función junto con un entorno: un mapeo que asocia cada variable libre de la función con el valor o ubicación de almacenamiento al que estaba vinculado el nombre cuando se creó la **clausura**.\n",
    "\n",
    "Una **clausura**, a diferencia de una función simple, permite que la función acceda a esas variables capturadas a través de la referencia de la **clausura** a aquellas, incluso cuando la función se invoque por fuera de su alcance.\n",
    "\n",
    "*A closure is a record storing a function together with an environment: a mapping associating each free variable of the function with the value or storage location to which the name was bound when the closure was created. A closure, unlike a plain function, allows the function to access those captured variables through the closure's reference to them, even when the function is invoked outside their scope.*\n",
    "\n",
    "Fuente: https://youtu.be/swU3c34d2NQ?si=JIV8T1-t1YAlac9F"
   ]
  },
  {
   "cell_type": "code",
   "execution_count": null,
   "metadata": {},
   "outputs": [],
   "source": [
    "'''\n",
    "Aquí:\n",
    "1) mensaje es una variable libre.\n",
    "2) return devuelve y ejecuta funcion_interna.\n",
    "'''\n",
    "def funcion_externa():\n",
    "  mensaje = \"Hola\"\n",
    "\n",
    "  def funcion_interna():\n",
    "    print(mensaje)\n",
    "\n",
    "  return funcion_interna()\n",
    "  \n",
    "funcion_externa()"
   ]
  },
  {
   "cell_type": "code",
   "execution_count": null,
   "metadata": {},
   "outputs": [],
   "source": [
    "'''\n",
    "Aquí:\n",
    "1) mensaje es una variable libre.\n",
    "2) return devuelve funcion_interna pero NO LA EJECUTA.\n",
    "\n",
    "por lo tanto mi_funcion ahora es una función.\n",
    "'''\n",
    "def funcion_externa():\n",
    "  mensaje = \"Hola\"\n",
    "\n",
    "  def funcion_interna():\n",
    "    print(mensaje)\n",
    "\n",
    "  return funcion_interna\n",
    "  \n",
    "mi_funcion = funcion_externa()\n",
    "print(mi_funcion)\n",
    "print(mi_funcion.__name__)\n",
    "\n",
    "print()\n",
    "\n",
    "mi_funcion()\n",
    "mi_funcion()\n",
    "mi_funcion()"
   ]
  },
  {
   "cell_type": "markdown",
   "metadata": {},
   "source": [
    "En términos simples:\n",
    "\n",
    "> Una **clausura** es una *función interna* que *recuerda* y *tiene acceso a* **variables** en el ámbito local en el que fue creada incluso luego de que la **función externa** haya finalizado su ejecución.\n",
    "\n",
    "Ahora, las clausuras se vuelven más interesantes cuando agregamos parámetros a las funciones. Veamos un ejemplo donde agregamos el parámetro `msj` en `funcion_externa`:"
   ]
  },
  {
   "cell_type": "code",
   "execution_count": null,
   "metadata": {},
   "outputs": [],
   "source": [
    "def funcion_externa(msj):\n",
    "  mensaje = msj\n",
    "\n",
    "  def funcion_interna():\n",
    "    print(mensaje)\n",
    "\n",
    "  return funcion_interna\n",
    "  \n",
    "mi_funcion_hola = funcion_externa(\"Hola\")\n",
    "mi_funcion_saludo = funcion_externa(\"Saludo\")\n",
    "\n",
    "mi_funcion_hola()\n",
    "mi_funcion_saludo()"
   ]
  },
  {
   "cell_type": "markdown",
   "metadata": {},
   "source": [
    "Y ahora, bajo este marco ampliada, volvamos a repasar un ejemplo dado anteriormente donde la función externa `etiqueta_html` incluye el parámetro `etiq`, y la función interna `formatear_texto` incluye el parámetro `msj`:"
   ]
  },
  {
   "cell_type": "code",
   "execution_count": null,
   "metadata": {},
   "outputs": [],
   "source": [
    "def etiqueta_html(etiq):\n",
    "\n",
    "  def formatear_texto(msj):\n",
    "    print(\"<{0}>{1}</{0}\".format(etiq, msj))\n",
    "  return formatear_texto\n",
    "\n",
    "imprime_h1 = etiqueta_html(\"h1\")\n",
    "# Probá imprimir imprime_h1 para ver qué devuelve antes de seguir\n",
    "imprime_h1(\"Este es un título h1\")\n",
    "imprime_h1(\"Este es otro título h1\")\n",
    "\n",
    "imprime_p = etiqueta_html(\"p\")\n",
    "imprime_p(\"Este es un párrafo.\")"
   ]
  },
  {
   "cell_type": "markdown",
   "metadata": {},
   "source": [
    "Ahora veamos un último ejemplo:"
   ]
  },
  {
   "cell_type": "code",
   "execution_count": null,
   "metadata": {},
   "outputs": [],
   "source": [
    "import logging\n",
    "logging.basicConfig(filename='ejemplo.log', level=logging.INFO)\n",
    "\n",
    "def logger(func):\n",
    "  def log_func(*args):\n",
    "    logging.info('Running \"{}\" with arguments {}'.format(func.__name__, args))\n",
    "    print(func(*args))\n",
    "  return log_func\n",
    "\n",
    "def suma(x, y):\n",
    "  return x + y\n",
    "\n",
    "def resta(x, y):\n",
    "  return x - y\n",
    "\n",
    "# Aquí pasamos las funciones suma y resta a dos instancias \n",
    "# distintas de la función exterior\n",
    "suma_logger = logger(suma)\n",
    "resta_logger = logger(resta)\n",
    "\n",
    "# Ahora pasamos argumentos a través de las varibles creadas\n",
    "# en el paso anterior y se ejecuta la función interior\n",
    "# en cada una de ellas\n",
    "\n",
    "suma_logger(3, 3)\n",
    "suma_logger(4, 5)\n",
    "\n",
    "print()\n",
    "\n",
    "resta_logger(10, 5)\n",
    "resta_logger(20, 10)"
   ]
  },
  {
   "cell_type": "markdown",
   "metadata": {},
   "source": [
    "## 34. Bucles (loops)\n",
    "\n",
    "En Python tenemos dos tipos de estructuras de bucle: `while` y `for`."
   ]
  },
  {
   "cell_type": "code",
   "execution_count": null,
   "metadata": {},
   "outputs": [],
   "source": [
    "# while\n",
    "condicion = True\n",
    "\n",
    "while condicion == True:\n",
    "  print(\"Este texto está dentro del bucle\")\n",
    "  condicion = False\n",
    "\n",
    "print(\"Este texto está fuera del bucle\")"
   ]
  },
  {
   "cell_type": "code",
   "execution_count": null,
   "metadata": {},
   "outputs": [],
   "source": [
    "# while con contador\n",
    "contador = 0\n",
    "\n",
    "while contador < 10:\n",
    "  print(\"Este texto está dentro del bucle\")\n",
    "  contador += 1\n",
    "\n",
    "print(\"Este texto está fuera del bucle\")"
   ]
  },
  {
   "cell_type": "code",
   "execution_count": null,
   "metadata": {},
   "outputs": [],
   "source": [
    "# for para iterar en elementos de una lista\n",
    "items = [1, 2, 3, 4]\n",
    "for item in items:\n",
    "  print(item)"
   ]
  },
  {
   "cell_type": "code",
   "execution_count": null,
   "metadata": {},
   "outputs": [],
   "source": [
    "# for para iterar en elementos de una lista junto a su número de índice\n",
    "items = [5, \"lol\", True, 40]\n",
    "for index, item in enumerate(items):\n",
    "  print(index, item)"
   ]
  },
  {
   "cell_type": "code",
   "execution_count": null,
   "metadata": {},
   "outputs": [],
   "source": [
    "# for para iterar una determinada cantidad de veces\n",
    "for item in range(10):\n",
    "  print(item)"
   ]
  },
  {
   "cell_type": "markdown",
   "metadata": {},
   "source": [
    "## 35. Interrumpir y continuar (break an continue)\n",
    "\n",
    "Tanto las estructuras while como las estructuras for pueden ser interrumpidas dentro del bloque usando las palabras clave `break` y `continue`.\n",
    "\n",
    "- `continue`: detiene la iteración actual y obliga a Python a ejecutar la iteración siguiente,\n",
    "- `break`: detiene por completo el bucle y continúa con la instrucción que sigue a este."
   ]
  },
  {
   "cell_type": "code",
   "execution_count": null,
   "metadata": {},
   "outputs": [],
   "source": [
    "# continue\n",
    "items = [1, 2, 3, 4]\n",
    "for item in items:\n",
    "  if item == 3:\n",
    "    continue\n",
    "  print(item)"
   ]
  },
  {
   "cell_type": "code",
   "execution_count": null,
   "metadata": {},
   "outputs": [],
   "source": [
    "# break\n",
    "items = [1, 2, 3, 4]\n",
    "for item in items:\n",
    "  if item == 3:\n",
    "    break\n",
    "  print(item)"
   ]
  },
  {
   "cell_type": "markdown",
   "metadata": {},
   "source": [
    "## 35. Clases\n",
    "\n",
    "Una **clase** es el *tipo* de un **objeto**. Un **objeto** es una *instancia* de una **clase**."
   ]
  },
  {
   "cell_type": "code",
   "execution_count": null,
   "metadata": {},
   "outputs": [],
   "source": [
    "# Clase Perro\n",
    "\n",
    "class Perro:\n",
    "  # El método init corresponde al método contructor.\n",
    "  # El contructor se encarga de inicializar las\n",
    "  # propiedades cuando creamos un objeto de dicha clase.\n",
    "  def __init__(self, nombre, edad):\n",
    "    self.nombre = nombre\n",
    "    self.edad = edad\n",
    "  # Cuando definimos un método de clase siempre\n",
    "  # comenzamos con el parámetro self, el cual\n",
    "  # apunta a la instancia del objeto actual.\n",
    "  def ladrido(self):\n",
    "    return \"Guau guau\"\n",
    "\n",
    "pichichus = Perro(\"Pichichus\", 2)\n",
    "\n",
    "print(type(pichichus))\n",
    "print(pichichus.nombre)\n",
    "print(pichichus.edad)\n",
    "print(pichichus.ladrido())"
   ]
  },
  {
   "cell_type": "markdown",
   "metadata": {},
   "source": [
    "Un aspecto clave de las clases es la capacidad de **herencia**:"
   ]
  },
  {
   "cell_type": "code",
   "execution_count": null,
   "metadata": {},
   "outputs": [],
   "source": [
    "class Animal:\n",
    "  def se_mueve(self):\n",
    "    return (\"Se mueve de aquí para allá\")\n",
    "\n",
    "# Para asignar la herencia se incorpora entre\n",
    "# paréntesis las clases heredadas.\n",
    "class Perro(Animal):\n",
    "  # El método init corresponde al método contructor.\n",
    "  # El contructor se encarga de inicializar las\n",
    "  # propiedades cuando creamos un objeto de dicha clase.\n",
    "  def __init__(self, nombre, edad):\n",
    "    self.nombre = nombre\n",
    "    self.edad = edad\n",
    "  # Cuando definimos un método de clase siempre\n",
    "  # comenzamos con el parámetro self, el cual\n",
    "  # apunta a la instancia del objeto actual.\n",
    "  def ladrido(self):\n",
    "    return \"Guau guau\"\n",
    "\n",
    "pichichus = Perro(\"Pichichus\", 2)\n",
    "\n",
    "print(type(pichichus))\n",
    "print(pichichus.nombre)\n",
    "print(pichichus.edad)\n",
    "print(pichichus.ladrido())\n",
    "print(pichichus.se_mueve())"
   ]
  },
  {
   "cell_type": "markdown",
   "metadata": {},
   "source": [
    "## 36. Módulos (modules)\n",
    "\n",
    "Cada archivo de Python es un módulo.\n",
    "\n",
    "Podés importar un módulo desde otros archivos y esta es la base de cualquier programa de moderada complejidad ya que promueve una organización sensible y reutilización de código.\n",
    "\n",
    "En un programa típico de Python, un archivo actúa como el punto de entrada (entry point) y los otros son módulos y funciones expuestas que podemos llamar desde otros archivos.\n",
    "\n",
    "Veamos un ejemplo:"
   ]
  },
  {
   "cell_type": "code",
   "execution_count": null,
   "metadata": {},
   "outputs": [],
   "source": [
    "# archivo secundario: gato.py\n",
    "def maullido():\n",
    "  return \"miauuuu\"\n",
    "\n",
    "# archivo principal: main.py\n",
    "import gato\n",
    "\n",
    "gato.maullido()"
   ]
  },
  {
   "cell_type": "markdown",
   "metadata": {},
   "source": [
    "Si quisiera importar alguna o algunas funciones de un archivo usamos la fórmula `from...import`:"
   ]
  },
  {
   "cell_type": "code",
   "execution_count": null,
   "metadata": {},
   "outputs": [],
   "source": [
    "from gato import maullido\n",
    "\n",
    "# observe que ya no usamos la referencia\n",
    "# al nombre de archivo\n",
    "maullido()"
   ]
  },
  {
   "cell_type": "markdown",
   "metadata": {},
   "source": [
    "Una práctica recomendada es colocar los archivos a importar dentro de una carpeta llamada `lib`.\n",
    "\n",
    "Esta carpeta la debemos inicializar creando un archivo vacío llamado `__init__.py`:\n",
    "\n",
    "El siguiente es un ejemplo de esto mismo:"
   ]
  },
  {
   "cell_type": "code",
   "execution_count": null,
   "metadata": {},
   "outputs": [],
   "source": [
    "from lib import vaca\n",
    "\n",
    "print(vaca.muge())"
   ]
  },
  {
   "cell_type": "markdown",
   "metadata": {},
   "source": [
    "Otra variante más específica del ejemplo anterior:"
   ]
  },
  {
   "cell_type": "code",
   "execution_count": null,
   "metadata": {},
   "outputs": [],
   "source": [
    "from lib.vaca import muge\n",
    "\n",
    "print(muge())"
   ]
  },
  {
   "cell_type": "markdown",
   "metadata": {},
   "source": [
    "Por otro lado, contamos con la **biblioteca estándar de Python** que contienen muchos módulos súmamente útiles. Algunos de ellas son:\n",
    "\n",
    "- `math`: para utilidades matemáticas\n",
    "- `re`: para expresiones regulares\n",
    "- `json`: para trabajar con JSON\n",
    "- `datetime`: para trabajar con fechas\n",
    "- `sqlite3`: para usar SQLite\n",
    "- `os`: para utilidades del sistema operativo\n",
    "- `random`: para la generación de números aleatorios\n",
    "- `statistics`: para utilidades estadísticas\n",
    "- `request`: para requerimientos de red HTTP\n",
    "- `http`: para crear servidores HTTP\n",
    "- `urllib`: para gestionar URLs"
   ]
  },
  {
   "cell_type": "code",
   "execution_count": null,
   "metadata": {},
   "outputs": [],
   "source": [
    "import math\n",
    "\n",
    "print(math.sqrt(4))"
   ]
  },
  {
   "cell_type": "markdown",
   "metadata": {},
   "source": [
    "O más específico:"
   ]
  },
  {
   "cell_type": "code",
   "execution_count": null,
   "metadata": {},
   "outputs": [],
   "source": [
    "from math import sqrt\n",
    "\n",
    "print(sqrt(4))"
   ]
  },
  {
   "cell_type": "markdown",
   "metadata": {},
   "source": [
    "## 37. Argumentos desde la línea de comando"
   ]
  },
  {
   "cell_type": "markdown",
   "metadata": {},
   "source": [
    "Para ejecutar archivos Python desde el comando de línea:\n",
    "\n",
    "```bash\n",
    "python circle.py\n",
    "```\n",
    "\n",
    "o bien:\n",
    "```bash\n",
    "python3 circle.py\n",
    "```"
   ]
  },
  {
   "cell_type": "markdown",
   "metadata": {},
   "source": [
    "Ahora, ¿cómo podemos pasar argumentos desde la línea de comando hacia Python?\n",
    "\n",
    "Una forma de hacerlo es a través del módulo `sys`de la Biblioteca estándar de Python:"
   ]
  },
  {
   "cell_type": "code",
   "execution_count": null,
   "metadata": {},
   "outputs": [],
   "source": [
    "# Archivo: args.py\n",
    "import sys\n",
    "\n",
    "print(sys.argv)"
   ]
  },
  {
   "cell_type": "markdown",
   "metadata": {},
   "source": [
    "Para probar su funcionamiento escribamos en la consola:\n",
    "```bash\n",
    "python args.py Titi 2 64 True\n",
    "```\n",
    "\n",
    "La consola nos devuelve la siguiente lista:\n",
    "\n",
    "```\n",
    "['args.py', 'Titi', '2', '64', 'True']\n",
    "```\n",
    "\n",
    "Pero si quiero acceder a algún argumento en particular puedo hacerlo con la sintaxis de índice:"
   ]
  },
  {
   "cell_type": "code",
   "execution_count": null,
   "metadata": {},
   "outputs": [],
   "source": [
    "# Archivo: args.py\n",
    "import sys\n",
    "\n",
    "nombre = sys.argv[1]\n",
    "\n",
    "print(\"Hola \" + nombre)"
   ]
  },
  {
   "cell_type": "markdown",
   "metadata": {},
   "source": [
    "Pero también existe otro paquete para trabajar con argumentos desde la consola: `argparse`\n",
    "\n",
    "Veamos un ejemplo:"
   ]
  },
  {
   "cell_type": "code",
   "execution_count": null,
   "metadata": {},
   "outputs": [],
   "source": [
    "import argparse\n",
    "\n",
    "# 1. Incorporo la descripción del programa\n",
    "parser = argparse.ArgumentParser(\n",
    "  description='Este programa imprime el nombre de los primero cinco números'\n",
    ")\n",
    "\n",
    "# 2. Agrego argumentos que quiero aceptar\n",
    "parser.add_argument('-c', '--color', metavar='color', required=True, help='el color a usar')\n",
    "\n",
    "# 3. Parseo los argumentos que haya agregado\n",
    "args = parser.parse_args()\n",
    "\n",
    "# 4. Imprimo en consola el argumento color\n",
    "print(args.color)"
   ]
  },
  {
   "cell_type": "markdown",
   "metadata": {},
   "source": [
    "Probemos qué devuelve la consola cuando escribimos sin argumentos:\n",
    "\n",
    "```bash\n",
    "python args2.py\n",
    "```"
   ]
  },
  {
   "cell_type": "markdown",
   "metadata": {},
   "source": [
    "Por otro lado, podemos incluir una opción que tenga un conjunto de valores predefinidos (en este caso será `azul` y `amarillo`) usando `choices` luego de la opción `required`.\n",
    "\n",
    "Esto habilitará que sólo podamos seleccionar las opciones (`choices`) predefinidas:"
   ]
  },
  {
   "cell_type": "code",
   "execution_count": null,
   "metadata": {},
   "outputs": [],
   "source": [
    "import argparse\n",
    "\n",
    "# 1. Incorporo la descripción del programa\n",
    "parser = argparse.ArgumentParser(\n",
    "  description='Este programa imprime el nombre de los primero cinco números'\n",
    ")\n",
    "\n",
    "# 2. Agrego argumentos que quiero aceptar\n",
    "parser.add_argument('-c', '--color', metavar='color', required=True, choices={'azul', 'amarillo'}, help='el color a usar')\n",
    "\n",
    "# 3. Parseo los argumentos que haya agregado\n",
    "args = parser.parse_args()\n",
    "\n",
    "# 4. Imprimo en consola el argumento color\n",
    "print(args.color)"
   ]
  },
  {
   "cell_type": "markdown",
   "metadata": {},
   "source": [
    "Ahora veamos qué pasa cuando ingresamos estos dos comandos en la consola.\n",
    "\n",
    "Primero este:\n",
    "```bash\n",
    "python args2.py -c azul\n",
    "```\n",
    "\n",
    "Y luego este otro:\n",
    "\n",
    "```bash\n",
    "python args2.py -c rojo\n",
    "```"
   ]
  },
  {
   "cell_type": "markdown",
   "metadata": {},
   "source": [
    "## 38. Funciones lambda (lambda functions)\n",
    "\n",
    "Las **funciones lambda**, también llamadas **funciones anónimas**, son pequeñas funciones que no tienen nombre y sólo tienen una expresión (no una declaración) como componente. \n",
    "\n",
    "> IMPORTANTE: Recordemos que una **expresión** (expression) devuelve un valor mientras que una **declaración** (statement) no.\n",
    "\n",
    "Se definen usando la palabra clave `lambda`.\n",
    "\n",
    "Veamos un ejemplo:\n",
    "\n",
    "```python\n",
    "lambda num : num * 2\n",
    "```\n",
    "\n",
    "donde:\n",
    "\n",
    "- `num` corresponde al argumento\n",
    "- `num * 2` corresponde a la expresión\n"
   ]
  },
  {
   "cell_type": "markdown",
   "metadata": {},
   "source": [
    "Las funciones lambda pueden aceptar más de un argumento:\n",
    "\n",
    "```python\n",
    "lambda a, b : a * b\n",
    "```\n",
    "\n",
    "Las **funciones lambda** no pueden ser invocadas directamente pero pueden ser asignadas a variables.\n",
    "\n",
    "Por ejemplo podemos asignar la **función lambda** anterior a la variable `multiplicacion`:\n",
    "\n",
    "```python\n",
    "multiplicacion = lambda a, b : a * b\n",
    "```\n",
    "\n",
    "Y la forma de usar es:\n",
    "\n",
    "```python\n",
    "print(multiplicacion(2,4))\n",
    "```\n",
    "\n",
    "La potencia de las **funciones lambda** es apreciada cuando son utilizadas junto a otras funcionalidades de Python, por ejemplo en combinación con `map()`, `filter()` y `reduce()`."
   ]
  },
  {
   "cell_type": "markdown",
   "metadata": {},
   "source": [
    "## 39. Map, Filter, Reduce (map, filter, reduce)\n",
    "\n",
    "Python incorpora tres funciones globales útiles para trabajar con colecciones: `map()`, `filter()` y `reduce()`.\n"
   ]
  },
  {
   "cell_type": "markdown",
   "metadata": {},
   "source": [
    "### map()\n",
    "\n",
    "`map()` se usa para ejecutar una función, de forma iterada, sobre cada elemento de una colección tal como una lista, y crear una nueva lista con el mismo número de elementos que la original pero con los valores modificados de cada elemento.\n",
    "\n",
    "Veamos un ejemplo:"
   ]
  },
  {
   "cell_type": "code",
   "execution_count": null,
   "metadata": {},
   "outputs": [],
   "source": [
    "numeros = [1, 2, 3]\n",
    "\n",
    "def doble(a):\n",
    "  return a * 2\n",
    "\n",
    "resultado = map(doble, numeros)\n",
    "\n",
    "print(list(resultado))"
   ]
  },
  {
   "cell_type": "markdown",
   "metadata": {},
   "source": [
    "Ahora, cuando la función que queremos aplicar es de una sola linea, es usa generalmente una **función lambda**:"
   ]
  },
  {
   "cell_type": "code",
   "execution_count": null,
   "metadata": {},
   "outputs": [],
   "source": [
    "numeros = [1, 2, 3]\n",
    "\n",
    "# Aquí usamos la función labda para simplificar el código\n",
    "doble = lambda a : a * 2\n",
    "\n",
    "resultado = map(doble, numeros)\n",
    "\n",
    "print(list(resultado))"
   ]
  },
  {
   "cell_type": "markdown",
   "metadata": {},
   "source": [
    "Pero incluso, podemos simplificar más el código:"
   ]
  },
  {
   "cell_type": "code",
   "execution_count": null,
   "metadata": {},
   "outputs": [],
   "source": [
    "numeros = [1, 2, 3]\n",
    "\n",
    "resultado = map(lambda a : a * 2, numeros)\n",
    "\n",
    "print(list(resultado))"
   ]
  },
  {
   "cell_type": "markdown",
   "metadata": {},
   "source": [
    "Por último, observamos que la función `map()` devuelve un **objeto map**, el cual es un objeto iterable, por esto mismo que es debemos convertirlo con la función `list()` para poder imprimir su contenido."
   ]
  },
  {
   "cell_type": "markdown",
   "metadata": {},
   "source": [
    "### filter()\n",
    "\n",
    "`filter()` toma un iterable y devuelve un **objeto filter**, el cual es otro iterable pero sin alguno o algunos de los elementos originales.\n",
    "\n",
    "Esto puede ser realizado mediante la devolución de `True` o `False` a partir de la función de filtrado.\n",
    "\n",
    "Veamos un ejemplo:"
   ]
  },
  {
   "cell_type": "code",
   "execution_count": null,
   "metadata": {},
   "outputs": [],
   "source": [
    "numeros = [1, 2, 3, 4, 5, 6]\n",
    "\n",
    "def es_par(n):\n",
    "  return n % 2 == 0\n",
    "\n",
    "resultado = filter(es_par, numeros)\n",
    "\n",
    "print(list(resultado))"
   ]
  },
  {
   "cell_type": "markdown",
   "metadata": {},
   "source": [
    "A continuación la misma funcionalidad pero esta vez con funciones lambda:"
   ]
  },
  {
   "cell_type": "code",
   "execution_count": null,
   "metadata": {},
   "outputs": [],
   "source": [
    "numeros = [1, 2, 3, 4, 5, 6]\n",
    "\n",
    "resultado = filter(lambda n : n % 2 == 0, numeros)\n",
    "\n",
    "print(list(resultado))"
   ]
  },
  {
   "cell_type": "markdown",
   "metadata": {},
   "source": [
    "Por último nos queda la función `reduce()`."
   ]
  },
  {
   "cell_type": "markdown",
   "metadata": {},
   "source": [
    "### reduce()\n",
    "\n",
    "`reduce()` se usa para calcular un valor a partir de una colección, como por ejemplo una lista.\n",
    "\n",
    "Veamos un ejemplo sin utilizar `reduce()`:"
   ]
  },
  {
   "cell_type": "code",
   "execution_count": null,
   "metadata": {},
   "outputs": [],
   "source": [
    "expensas = [\n",
    "  ('Cena', 80),\n",
    "  ('Reparación del auto', 1220)\n",
    "]\n",
    "\n",
    "suma = 0\n",
    "\n",
    "for gasto in expensas:\n",
    "  suma += gasto[1]\n",
    "\n",
    "print(suma)"
   ]
  },
  {
   "cell_type": "markdown",
   "metadata": {},
   "source": [
    "Ahora hagámoslo con `reduce()`:"
   ]
  },
  {
   "cell_type": "code",
   "execution_count": null,
   "metadata": {},
   "outputs": [],
   "source": [
    "from functools import reduce\n",
    "\n",
    "expensas = [\n",
    "  ('Cena', 80),\n",
    "  ('Reparación del auto', 1220)\n",
    "]\n",
    "\n",
    "suma = reduce(lambda a, b : a[1] + b[1], expensas)\n",
    "\n",
    "print(suma)"
   ]
  },
  {
   "cell_type": "markdown",
   "metadata": {},
   "source": [
    "Nótese lo siguiente: la función lambda toma dos argumentos: `a, b`\n",
    "\n",
    "El argumento `a` correponde al valor acumulado, mientras el argumento `b` corresponde al valor de actualización del iterable."
   ]
  },
  {
   "cell_type": "markdown",
   "metadata": {},
   "source": [
    "## 40. Recursividad (recursion)\n",
    "\n",
    "En Python una función puede llamarse a sí misma, y esta propiedad es llamada **recursividad**.\n",
    "\n",
    "Una forma sencilla de explicar la recursividad es aplicándola al cálculo factorial.\n",
    "\n",
    "Recordemos que la función factorial se representa con un signo de exclamación `!` detrás de un número, por ejemplo:\n",
    "\n",
    "```\n",
    "6!\n",
    "```\n",
    "\n",
    "Esta exclamación quiere decir que hay que multiplicar todos los números enteros positivos que hay entre ese número y el 1.\n",
    "\n",
    "Se puede definir la función factorial mediante la recurrencia de n factorial, que es igual a n multiplicado por n - 1 factorial.\n",
    "\n",
    "Es decir:\n",
    "\n",
    "```\n",
    "n! = n * (n-1)!\n",
    "```\n",
    "\n",
    "Si esta función la aplicamos al `6!` tendremos:\n",
    "\n",
    "```\n",
    "6! = 6 * (6-1) * (6-2) * (6-3) * (6-4) * (6-5)\n",
    "6! = 6 *   5   *   4   *   3   *   2   *   1 = 720\n",
    "```\n",
    "A este número, `6!` le llamamos generalmente **6 factorial**, aunque también se lo suele denominar **factorial de 6**.\n",
    "\n",
    "Veamos el resultado con otros números:\n",
    "\n",
    "```\n",
    "5! = 5 * 4 * 3 * 2 * 1 = 120\n",
    "4! = 4 * 3 * 2 * 1 = 24\n",
    "3! = 3 * 2 * 1 = 6\n",
    "2! = 2 * 1 = 2\n",
    "1! = 1 = 1\n",
    "0! = 1 (valor por convención dado que se trata de un producto vacío)\n",
    "```\n",
    "Si usamos Python para llevar a cabo el cálculo factorial podemos expresarlo de dos maneras:\n",
    "\n",
    "1. Con un acercamiento iterativo:"
   ]
  },
  {
   "cell_type": "code",
   "execution_count": null,
   "metadata": {},
   "outputs": [],
   "source": [
    "def factorial_iterativo(n):\n",
    "    resultado = 1\n",
    "    for i in range(1, n + 1):\n",
    "        resultado *= i\n",
    "    return resultado\n",
    "\n",
    "numero = 6\n",
    "resultado = factorial_iterativo(numero)\n",
    "print(f\"El factorial de {numero} es {resultado}\")"
   ]
  },
  {
   "cell_type": "markdown",
   "metadata": {},
   "source": [
    "2. Con un acercamiento recursivo:"
   ]
  },
  {
   "cell_type": "code",
   "execution_count": null,
   "metadata": {},
   "outputs": [],
   "source": [
    "def factorial_recursivo(n):\n",
    "  if n == 0:\n",
    "    return 1\n",
    "  else:\n",
    "    return n * factorial_recursivo(n - 1)\n",
    "\n",
    "numero = 6\n",
    "resultado = factorial_recursivo(numero)\n",
    "print(f\"El factorial de {numero} es {resultado}\")"
   ]
  },
  {
   "cell_type": "markdown",
   "metadata": {},
   "source": [
    "## 41. Decoradoras (Decorators)\n",
    "\n",
    "En Python, las **decoradoras** son formas de cambiar, mejorar o alterar la forma de funcionamiento de una función.\n",
    "\n",
    "Las decoradoras se definen con el símbolo arroba: `@` seguido del nombre de l decoradora justo antes de la definición de la función.\n",
    "\n",
    "En el siguiente ejemplo veremos que la función `hola` tiene asignado la **decoradora** `tiempo_de_registro`:"
   ]
  },
  {
   "cell_type": "code",
   "execution_count": null,
   "metadata": {},
   "outputs": [],
   "source": [
    "# función decoradora\n",
    "def tiempo_de_registro(fn):\n",
    "  def contenedor():\n",
    "    # hace algo antes\n",
    "    print(\"antes de la decorada...\")\n",
    "    valor = fn()\n",
    "    # hace algo después\n",
    "    print(\"...después de la decorada\")\n",
    "    return valor\n",
    "  return contenedor\n",
    "\n",
    "# función decorada\n",
    "@tiempo_de_registro\n",
    "def decorada():\n",
    "  print(\"¡Soy la función decorada!\")\n",
    "\n",
    "decorada()"
   ]
  },
  {
   "cell_type": "markdown",
   "metadata": {},
   "source": [
    "Es entonces que una **decoradora** es una función que toma otra función como parámetro, envuelve la función en una función interna que realiza el trabajo escrito y que devuelve dicha función interna.\n",
    "\n",
    "Por lo tanto vamos a utilizar funciones decoradoras cuando queramos cambiar el comportamiento de una función sin modificar dicha función. Algunos ejemplos de casos de aplicación serían: para agregar registros (logging), evaluación de performance (test performance), aplicación de cacheo (perform caching), verificación de permisos y otros."
   ]
  },
  {
   "cell_type": "markdown",
   "metadata": {},
   "source": [
    "## 42. Cadenas de documentos (docstrings)\n",
    "\n",
    "Las **docstrings** son formas de escribir comentarios que siguen convenciones que ayudan a mejorar los procesos y acciones de documentación.\n",
    "\n",
    "Las **docstrings** se representan aun aperturas y cierres de tres comillas dobles `\"\"\"` y pueden presentarse en formato de una sola línea o formato multilínea"
   ]
  },
  {
   "cell_type": "code",
   "execution_count": null,
   "metadata": {},
   "outputs": [],
   "source": [
    "\"\"\" Módulo Perro\n",
    "\n",
    "Este módulo se encarga de ... lorem ipsum ...\n",
    "y prové las siguientes clases:\n",
    "\n",
    "- Perro\n",
    "...\n",
    "\"\"\"\n",
    "\n",
    "# Clase Perro\n",
    "\n",
    "class Perro:\n",
    "  \"\"\"Una clase que representa un perro\"\"\"\n",
    "  def __init__(self, nombre, edad):\n",
    "    \"\"\"Inicializa un nuevo perro\"\"\"\n",
    "    self.nombre = nombre\n",
    "    self.edad = edad\n",
    "  def ladrido(self):\n",
    "    \"\"\"Hace ladrar al perro\"\"\"\n",
    "    return \"Guau guau\"\n",
    "\n",
    "print(help(Perro))"
   ]
  },
  {
   "cell_type": "markdown",
   "metadata": {},
   "source": [
    "## 43. Anotaciones (annotations)"
   ]
  },
  {
   "cell_type": "markdown",
   "metadata": {},
   "source": [
    "## 44. Excepciones (exceptions)"
   ]
  },
  {
   "cell_type": "markdown",
   "metadata": {},
   "source": [
    "## 45. With (with)"
   ]
  },
  {
   "cell_type": "markdown",
   "metadata": {},
   "source": [
    "## 46. Instalar paquetes con pip"
   ]
  },
  {
   "cell_type": "markdown",
   "metadata": {},
   "source": [
    "## 47. Compresión de listas (list Compression)"
   ]
  },
  {
   "cell_type": "markdown",
   "metadata": {},
   "source": [
    "## 48. Polimorfismo (polymorphism)"
   ]
  },
  {
   "cell_type": "markdown",
   "metadata": {},
   "source": [
    "## 49. Operador de sobrecarga (operator overloading)"
   ]
  }
 ],
 "metadata": {
  "kernelspec": {
   "display_name": "Python 3",
   "language": "python",
   "name": "python3"
  },
  "language_info": {
   "codemirror_mode": {
    "name": "ipython",
    "version": 3
   },
   "file_extension": ".py",
   "mimetype": "text/x-python",
   "name": "python",
   "nbconvert_exporter": "python",
   "pygments_lexer": "ipython3",
   "version": "3.10.4"
  },
  "orig_nbformat": 4
 },
 "nbformat": 4,
 "nbformat_minor": 2
}
