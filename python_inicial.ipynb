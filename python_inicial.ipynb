{
 "cells": [
  {
   "cell_type": "markdown",
   "metadata": {},
   "source": [
    "# Python - Nivel inicial\n",
    "por Raúl Federico Lacabanne - Artes Multimediales 4 - UNA"
   ]
  },
  {
   "cell_type": "markdown",
   "metadata": {},
   "source": [
    "Para empezar comencemos viendo cómo podemos imprimir un texto en pantalla. Para eso usaremos la función `print()`:"
   ]
  },
  {
   "cell_type": "markdown",
   "metadata": {},
   "source": [
    "## 1. Comenzamos este viaje"
   ]
  },
  {
   "cell_type": "code",
   "execution_count": null,
   "metadata": {},
   "outputs": [],
   "source": [
    "print(\"Hola mundo\")"
   ]
  },
  {
   "cell_type": "markdown",
   "metadata": {},
   "source": [
    "1. Funciones\n",
    "2. Variables\n",
    "3. Expresiones\n",
    "4. Instrucciones\n",
    "5. Comentarios\n",
    "6. Sangría\n",
    "7. Tipos de dato\n",
    "8. Operadores aritméticos\n",
    "9. Operadores de comparación\n",
    "10. Operadores booleanos\n",
    "11. Operadores bit a bit (bitwise operators)\n",
    "12. Operadores is e in (is & in operators)\n",
    "13. Operador ternario (ternary operator)\n",
    "14. Cadenas de texto\n",
    "15. Métodos de cadenas de textos\n",
    "16. Caracteres de escape (para agregar caracteres especial a una cadena)\n",
    "17. Caracteres de cadena y corte (String characters and slicing)\n",
    "18. Booleanas\n",
    "19. Tipos de datos numéricos\n",
    "20. Funciones globales utiles para los números\n",
    "21. Enums (usado para crear constantes)\n",
    "22. USER INPUT\n",
    "23. Listas\n",
    "24. Tuplas\n",
    "25. Diccionarios [1:53:50]"
   ]
  },
  {
   "cell_type": "markdown",
   "metadata": {},
   "source": [
    "## 2. Variables\n",
    "\n",
    "Ahora vamos con las **tuplas**.\n",
    "\n",
    "Regla de las variables:\n",
    "\n",
    "1. Tienen que comenzar con un caracter alfabético o un guión bajo (`_`).\n",
    "\n",
    "2. Sólo pueden contener caracteres alfanuméricos y/o guiones bajos `_`.\n",
    "\n",
    "3. Los nombres de varibles son sensibles a mayúusculas/minúsculas.\n",
    "\n",
    "Las variables tiene tres componentes:\n",
    "\n",
    "- nombre\n",
    "- valor\n",
    "- identidad"
   ]
  },
  {
   "cell_type": "code",
   "execution_count": null,
   "metadata": {},
   "outputs": [],
   "source": [
    "# Inmutable\n",
    "print(\"Tipos de dato inmutables: cadenas de texto\")\n",
    "print(\"******************************************\")\n",
    "a = \"gato\"\n",
    "print(a)\n",
    "print(\"La dirección en memoria de a es: \" + str(id(a)) + \"\\n\")\n",
    "\n",
    "a = \"perro\"\n",
    "print(a)\n",
    "print(\"La dirección en memoria de a es: \" + str(id(a)) + \"\\n\")\n",
    "\n",
    "# Mutable\n",
    "print(\"Tipos de dato mutables: listas\")\n",
    "print(\"******************************\")\n",
    "b = [1,2,3,4,5]\n",
    "print(b)\n",
    "print(\"La dirección en memoria de a es: \" + str(id(b)) + \"\\n\")\n",
    "\n",
    "b[0] = 10\n",
    "print(b)\n",
    "print(\"La dirección en memoria de a es: \" + str(id(b)) + \"\\n\")\n"
   ]
  },
  {
   "cell_type": "markdown",
   "metadata": {},
   "source": [
    "## 7. Tipos de dato\n",
    "\n",
    "Ahora vamos con las **tuplas**.\n",
    "\n",
    "Regla de las variables:\n",
    "\n",
    "| Ejemplo                                 | Tipo de dato | Persistencia |\n",
    "|-----------------------------------------|---------------|-------------|\n",
    "| x = \"Hello World\"                      | str           | inmutable |\n",
    "| x = 20                                  | int           | inmutable |\n",
    "| x = 20.5                                | float         | inmutable |\n",
    "| x = 1j                                  | complex       | inmutable |\n",
    "| x = [\"apple\", \"banana\", \"cherry\"]      | list          | mutable |\n",
    "| x = (\"apple\", \"banana\", \"cherry\")      | tuple         | inmutable |\n",
    "| x = range(6)                           | range         | inmutable |\n",
    "| x = {\"name\" : \"John\", \"age\" : 36}      | dict          | mutable |\n",
    "| x = {\"apple\", \"banana\", \"cherry\"}      | set           | mutable |\n",
    "| x = frozenset({\"apple\", \"banana\", \"cherry\"}) | frozenset | inmutable |\n",
    "| x = True                               | bool          | inmutable |\n",
    "| x = b\"Hello\"                           | bytes         | inmutable |\n",
    "| x = bytearray(5)                       | bytearray     | mutable |\n",
    "| x = memoryview(bytes(5))               | memoryview    | mutable |\n",
    "| x = None                               | NoneType      | na |\n",
    "\n",
    "\n",
    "## Tipos de datos para almacenar colecciones de datos\n",
    "\n",
    "### Lista\n",
    "`x = [\"apple\", \"banana\", \"cherry\"]`\n",
    "\n",
    "### Tupla\n",
    "`x = (\"apple\", \"banana\", \"cherry\")`\n",
    "\n",
    "### Diccionario\n",
    "`x = {\"name\" : \"John\", \"age\" : 36}`\n",
    "\n",
    "### Conjunto\n",
    "`x = {\"apple\", \"banana\", \"cherry\"}`\n",
    "\n",
    "### Conjunto congelado\n",
    "`x = frozenset({\"apple\", \"banana\", \"cherry\"})`"
   ]
  },
  {
   "cell_type": "markdown",
   "metadata": {},
   "source": [
    "## 24. Tuplas\n",
    "\n",
    "Ahora vamos con las **tuplas**.\n",
    "\n",
    "Las **tuplas** son estructuras de datos que permiten crear grupos de objetos inmutables.\n",
    "\n",
    "Esto significa que una vez que hayamos creado una tupla, esta no puede ser modificada (ni cambiar el valor de los elementos, ni agregar, ni eliminar otros elementos).\n",
    "\n",
    "Para crear una tupla usamos paréntesis."
   ]
  },
  {
   "cell_type": "code",
   "execution_count": null,
   "metadata": {},
   "outputs": [],
   "source": [
    "inmortales = (\"Hera\", \"Zeus\", \"Hebe\", \"Ares\", \"Ilitía\")\n",
    "print(inmortales)\n",
    "print(inmortales[2]) \n",
    "print(inmortales.index(\"Hebe\"))\n",
    "print(inmortales[-1])\n",
    "print(len(inmortales))"
   ]
  },
  {
   "cell_type": "markdown",
   "metadata": {},
   "source": [
    "También podemos hacer:"
   ]
  },
  {
   "cell_type": "code",
   "execution_count": null,
   "metadata": {},
   "outputs": [],
   "source": [
    "inmortales = (\"Hera\", \"Zeus\", \"Hebe\", \"Ares\", \"Ilitía\")\n",
    "print(inmortales)\n",
    "print(\"Heracles\" in inmortales)\n",
    "print(inmortales[1:4])\n",
    "print(sorted(inmortales))"
   ]
  },
  {
   "cell_type": "markdown",
   "metadata": {},
   "source": [
    "Por último, puedo crear una tupla utilizando una tupla previa mediante el operador de asignación:"
   ]
  },
  {
   "cell_type": "code",
   "execution_count": null,
   "metadata": {},
   "outputs": [],
   "source": [
    "inmortales2 = (\"Hera\", \"Zeus\")\n",
    "print(inmortales2)\n",
    "\n",
    "inmortales2 += (\"Hebe\", \"Ares\", \"Ilitía\")\n",
    "print(inmortales2)"
   ]
  },
  {
   "cell_type": "markdown",
   "metadata": {},
   "source": [
    "## 25. Diccionarios\n",
    "\n",
    "Llegó el turno de los **diccionarios**. Estos son parte de las estructuras de datos de Python.\n",
    "\n",
    "> Los **diccionarios** permiten *crear múltiples pares clave-valor*. El contenido de la *clave* será *inmutable*."
   ]
  },
  {
   "cell_type": "code",
   "execution_count": null,
   "metadata": {},
   "outputs": [],
   "source": [
    "artista = { \"nombre\": \"Clara\", \"disciplina\": \"teatro\", \"obras_realizadas\": 12 }\n",
    "print(artista[\"disciplina\"])\n",
    "\n",
    "print(artista[\"obras_realizadas\"])\n",
    "artista[\"obras_realizadas\"] = 13\n",
    "print(artista[\"obras_realizadas\"])\n",
    "\n",
    "print(len(artista))"
   ]
  },
  {
   "cell_type": "code",
   "execution_count": null,
   "metadata": {},
   "outputs": [],
   "source": [
    "#Método .get() . Si no encuentra la clave solicitada, puede devolver un valor por defecto.\n",
    "print(artista.get(\"nombre\"))\n",
    "print(artista.get(\"edad\", \"La clave solicitada no se encuentra en el sistema\"))"
   ]
  },
  {
   "cell_type": "code",
   "execution_count": null,
   "metadata": {},
   "outputs": [],
   "source": [
    "#Método .pop(): devuelve el valor asociado a la clave y la borra del diccionario.\n",
    "print(artista.pop(\"disciplina\"))\n",
    "print(artista)"
   ]
  },
  {
   "cell_type": "code",
   "execution_count": null,
   "metadata": {},
   "outputs": [],
   "source": [
    "#Método .popitem(): devuelve el valor asociado a la última clave del diccionario y la borra.\n",
    "print(artista.popitem())\n",
    "print(artista)"
   ]
  },
  {
   "cell_type": "code",
   "execution_count": null,
   "metadata": {},
   "outputs": [],
   "source": [
    "#Usar la palabra clave _in_ para comprobar si una clave se encuentra en un diccionario.\n",
    "print(\"nombre\" in artista)"
   ]
  },
  {
   "cell_type": "code",
   "execution_count": null,
   "metadata": {},
   "outputs": [],
   "source": [
    "# Para listar todas las claves de un diccionario.\n",
    "artista = { \"nombre\": \"Clara\", \"disciplina\": \"teatro\", \"obras_realizadas\": 12 }\n",
    "print(artista.keys())\n",
    "\n",
    "# O bien pasarlas como lista\n",
    "artista = { \"nombre\": \"Clara\", \"disciplina\": \"teatro\", \"obras_realizadas\": 12 }\n",
    "print(list(artista.keys()))"
   ]
  },
  {
   "cell_type": "code",
   "execution_count": null,
   "metadata": {},
   "outputs": [],
   "source": [
    "# Para listar todos los valores de un diccionario.\n",
    "artista = { \"nombre\": \"Clara\", \"disciplina\": \"teatro\", \"obras_realizadas\": 12 }\n",
    "print(artista.values())\n",
    "\n",
    "# O bien pasarlos como lista\n",
    "artista = { \"nombre\": \"Clara\", \"disciplina\": \"teatro\", \"obras_realizadas\": 12 }\n",
    "print(list(artista.values()))"
   ]
  },
  {
   "cell_type": "code",
   "execution_count": null,
   "metadata": {},
   "outputs": [],
   "source": [
    "# Para listar todos los items de un diccionario.\n",
    "artista = { \"nombre\": \"Clara\", \"disciplina\": \"teatro\", \"obras_realizadas\": 12 }\n",
    "print(artista.items())\n",
    "\n",
    "# O bien pasarlos como lista\n",
    "artista = { \"nombre\": \"Clara\", \"disciplina\": \"teatro\", \"obras_realizadas\": 12 }\n",
    "print(list(artista.items()))"
   ]
  },
  {
   "cell_type": "code",
   "execution_count": null,
   "metadata": {},
   "outputs": [],
   "source": [
    "# Para agregar un item a un diccionario.\n",
    "artista = { \"nombre\": \"Clara\", \"disciplina\": \"teatro\", \"obras_realizadas\": 12 }\n",
    "artista[\"en_actividad\"] = True\n",
    "print(artista)"
   ]
  },
  {
   "cell_type": "code",
   "execution_count": null,
   "metadata": {},
   "outputs": [],
   "source": [
    "# Para eliminar un item de un diccionario.\n",
    "del artista[\"en_actividad\"]\n",
    "print(artista)"
   ]
  },
  {
   "cell_type": "code",
   "execution_count": null,
   "metadata": {},
   "outputs": [],
   "source": [
    "# Para realizar una copia de un diccionario.\n",
    "artista_copia = artista.copy()\n",
    "print(artista_copia)"
   ]
  },
  {
   "cell_type": "markdown",
   "metadata": {},
   "source": [
    "## 26. Conjuntos (sets)\n",
    "\n",
    "Veremos qué se entiendo por **conjuntos**. Estos permiten almacenar múltiples elementos en una sola variable, de forma no ordenada y son mutables, es decir se puede cambiar su contenido.\n",
    "\n",
    "También se pueden entender como diccionarios sin claves.\n",
    "\n",
    "Pero hay una versión de conjunto que se denomina **conjunto congelado** que es inmutable."
   ]
  },
  {
   "cell_type": "code",
   "execution_count": null,
   "metadata": {},
   "outputs": [],
   "source": [
    "materiales1 = {\"madera\", \"roca\", \"vidrio\", \"hierro\"}\n",
    "materiales2 = {\"madera\", \"cartón\", \"electrónica\", \"vidrio\"}\n",
    "\n",
    "# Interseción de conjuntos\n",
    "intersect = materiales1 & materiales2\n",
    "print(intersect)\n",
    "\n",
    "# Unión de conjuntos\n",
    "union = materiales1 | materiales2\n",
    "print(union)\n",
    "\n",
    "# Diferencia de conjuntos\n",
    "diferencia = materiales1 - materiales2\n",
    "print(diferencia)\n",
    "\n",
    "# Superconjuntos y subconjuntos\n",
    "materiales3 = {\"madera\", \"roca\", \"vidrio\", \"hierro\"}\n",
    "materiales4 = {\"madera\", \"vidrio\"}\n",
    "m3_es_superconjunto_de_m4 = materiales3 > materiales4\n",
    "print(m3_es_superconjunto_de_m4)"
   ]
  },
  {
   "cell_type": "markdown",
   "metadata": {},
   "source": [
    "Por supuesto que es posible utilizar la función `len()`, utilizar `list()` para generar una lista de un conjunto, utilizar la palabra clave `in` para corroborar si algún elemento se encuentra en el conjunto."
   ]
  },
  {
   "cell_type": "markdown",
   "metadata": {},
   "source": [
    "> Algo muy importante a tomar en cuenta: en un conjunto no puede haber elementos repetidos."
   ]
  },
  {
   "cell_type": "code",
   "execution_count": null,
   "metadata": {},
   "outputs": [],
   "source": [
    "conjunto1 = {\"unicornios\", \"caballos\", \"cebras\", \"unicornios\"}\n",
    "print(conjunto1)"
   ]
  },
  {
   "cell_type": "markdown",
   "metadata": {},
   "source": [
    "## 26. Funciones\n",
    "\n",
    "Una **función** nos permite crear un conjunto de instrucciones que podemos ejecutar cuando las necesitemos.\n",
    "\n",
    "En la *definición* de las funciones, el cuerpo (o bloque) de instrucciones está marcada por la *indentación* que puede ser de dos espacios o cuatro espacios.\n",
    "\n",
    "Por ejemplo:"
   ]
  },
  {
   "cell_type": "code",
   "execution_count": null,
   "metadata": {},
   "outputs": [],
   "source": [
    "# Recuerden que para cadenas de texto se puede utilizar comillas simples o dobles.\n",
    "# Lo importante es ser consistente con su uso.\n",
    "def saludo():\n",
    "  print(\"¡Hola!\")"
   ]
  },
  {
   "cell_type": "markdown",
   "metadata": {},
   "source": [
    "Y cada vez que la quiero utilizar la llamo de la siguiente manera:"
   ]
  },
  {
   "cell_type": "code",
   "execution_count": null,
   "metadata": {},
   "outputs": [],
   "source": [
    "saludo()"
   ]
  },
  {
   "cell_type": "markdown",
   "metadata": {},
   "source": [
    "Una función puede aceptar uno o más parámetros si es necesario:"
   ]
  },
  {
   "cell_type": "code",
   "execution_count": null,
   "metadata": {},
   "outputs": [],
   "source": [
    "# nombre es un parámetro\n",
    "def saludo2(nombre):\n",
    "  print(\"¡Hola \" + nombre + \"!\")"
   ]
  },
  {
   "cell_type": "code",
   "execution_count": null,
   "metadata": {},
   "outputs": [],
   "source": [
    "# Ana, Clara o Pedro son argumentos.\n",
    "saludo2(\"Ana\")\n",
    "saludo2(\"Clara\")\n",
    "saludo2(\"Pedro\")"
   ]
  },
  {
   "cell_type": "markdown",
   "metadata": {},
   "source": [
    "Si no pasamos ningún argumento a la función anterior, nos devolverá un mensaje de error.\n",
    "\n",
    "Para subsanar esto podemos incluir un **valor por defecto** al parámetro requerido:"
   ]
  },
  {
   "cell_type": "code",
   "execution_count": null,
   "metadata": {},
   "outputs": [],
   "source": [
    "def saludo3(nombre = \"amigo mío\"):\n",
    "  print(\"¡Hola \" + nombre + \"!\")\n",
    "\n",
    "saludo3(\"Juan\")\n",
    "saludo3()"
   ]
  },
  {
   "cell_type": "markdown",
   "metadata": {},
   "source": [
    "Otro ejemplo de función pero con dos parámetros:"
   ]
  },
  {
   "cell_type": "code",
   "execution_count": null,
   "metadata": {},
   "outputs": [],
   "source": [
    "def saludo4(nombre, edad):\n",
    "  print(\"¡Hola \" + nombre + \", tu tienes \" + str(edad) + \" de edad!\")\n",
    "\n",
    "saludo4(\"Juan\", 22)"
   ]
  },
  {
   "cell_type": "code",
   "execution_count": null,
   "metadata": {},
   "outputs": [],
   "source": [
    "def cambio(valor):\n",
    "  valor = 2\n",
    "\n",
    "val = 1\n",
    "cambio(val)\n",
    "\n",
    "print(val)"
   ]
  },
  {
   "cell_type": "markdown",
   "metadata": {},
   "source": [
    "En Python tenemos objetos de dos tipos de tipos de datos: los inmutables y los mutables.\n",
    "\n",
    "Los **tipos de datos inmutables** no puden cambiar su valor por afuera de su ámbito de aplicación. Ellos son:\n",
    "\n",
    "- booleanas,\n",
    "- enteros,\n",
    "- decimales,\n",
    "- cadenas de texto,\n",
    "- bytes,\n",
    "- tuplas,\n",
    "- rango, y\n",
    "- conjuntos congelados.\n",
    "\n",
    "Mientras que los **tipos de datos mutables** son:\n",
    "\n",
    "- listas,\n",
    "- diccionarios,\n",
    "- conjuntos,\n",
    "- clases definidas por usuario, y\n",
    "- byte arrays\n",
    "\n",
    "Para más información ver: https://realpython.com/python-mutable-vs-immutable-types/"
   ]
  },
  {
   "cell_type": "code",
   "execution_count": null,
   "metadata": {},
   "outputs": [],
   "source": [
    "def cambio(valor):\n",
    "  valor = 2\n",
    "\n",
    "val = 1\n",
    "cambio(val)\n",
    "\n",
    "print(val)"
   ]
  },
  {
   "cell_type": "markdown",
   "metadata": {},
   "source": [
    "Por otro lado, proponemos el siguiente ejemplo con **tipos de dato mutable** usando el tipo *lista*:"
   ]
  },
  {
   "cell_type": "code",
   "execution_count": null,
   "metadata": {},
   "outputs": [],
   "source": [
    "def cambio(valor):\n",
    "  valor[0] = 10\n",
    "\n",
    "val = [1,2,3]\n",
    "cambio(val)\n",
    "\n",
    "print(val)"
   ]
  },
  {
   "cell_type": "markdown",
   "metadata": {},
   "source": [
    "O bien *diccionario*:"
   ]
  },
  {
   "cell_type": "code",
   "execution_count": null,
   "metadata": {},
   "outputs": [],
   "source": [
    "def cambio(valor):\n",
    "  valor[\"nombre\"] = \"Luz\"\n",
    "\n",
    "val = {\"nombre\": \"Luis\"}\n",
    "cambio(val)\n",
    "\n",
    "print(val)"
   ]
  },
  {
   "cell_type": "markdown",
   "metadata": {},
   "source": [
    "También una función puede devolver un valor:"
   ]
  },
  {
   "cell_type": "code",
   "execution_count": null,
   "metadata": {},
   "outputs": [],
   "source": [
    "def suma(a, b):\n",
    "  suma = a + b\n",
    "  return suma\n",
    "\n",
    "resultado = suma(2,2)\n",
    "print(\"La suma de los dos valores es igual a: \" + str(resultado))"
   ]
  },
  {
   "cell_type": "markdown",
   "metadata": {},
   "source": [
    "a continuación veremos un ejemplo donde usamos **return** para que no devuelva nada si el parámetro *nombre* está vacío:"
   ]
  },
  {
   "cell_type": "code",
   "execution_count": null,
   "metadata": {},
   "outputs": [],
   "source": [
    "def saludo(nombre):\n",
    "  if not nombre:\n",
    "    return\n",
    "  print(\"Hola \" + nombre + \" !\")\n",
    "\n",
    "saludo(False)\n",
    "saludo(\"Eva\")"
   ]
  },
  {
   "cell_type": "markdown",
   "metadata": {},
   "source": [
    "Por último un ejemplo con un **return** que devuelve *más de un elemento*:"
   ]
  },
  {
   "cell_type": "code",
   "execution_count": null,
   "metadata": {},
   "outputs": [],
   "source": [
    "def saludo(nombre):\n",
    "  print(\"Hola \" + nombre + \" !\")\n",
    "  return nombre, \"Éxitos\", 100\n",
    "\n",
    "mensajes = saludo(\"Juan\")\n",
    "print(mensajes)"
   ]
  },
  {
   "cell_type": "markdown",
   "metadata": {},
   "source": [
    "## 27. Ámbito de variables"
   ]
  },
  {
   "cell_type": "code",
   "execution_count": null,
   "metadata": {},
   "outputs": [],
   "source": [
    "# Variable global\n",
    "\n",
    "edad = 5\n",
    "\n",
    "def imprime_edad():\n",
    "  print(edad)\n",
    "\n",
    "# impresiones\n",
    "print(edad)\n",
    "imprime_edad()"
   ]
  },
  {
   "cell_type": "code",
   "execution_count": null,
   "metadata": {},
   "outputs": [],
   "source": [
    "# Variable local\n",
    "\n",
    "def imprime_edad():\n",
    "  edad2 = 2\n",
    "  print(edad)\n",
    "\n",
    "# impresiones\n",
    "print(edad2)\n",
    "imprime_edad()"
   ]
  },
  {
   "cell_type": "markdown",
   "metadata": {},
   "source": [
    "## 28. Funciones anidadas"
   ]
  },
  {
   "cell_type": "code",
   "execution_count": null,
   "metadata": {},
   "outputs": [],
   "source": [
    "# Función \n",
    "def hablar(frase):\n",
    "  def decir(palabra):\n",
    "    print(palabra)\n",
    "\n",
    "  palabras = frase.split(\" \")\n",
    "  print(palabras)\n",
    "\n",
    "hablar(\"Esta no es una frase muy pregnante\")"
   ]
  },
  {
   "cell_type": "code",
   "execution_count": null,
   "metadata": {},
   "outputs": [],
   "source": [
    "# nonlocal: para establecer que se hace referencia\n",
    "# referencia a una variable no local.\n",
    "def contador():\n",
    "  valor_actual = 0\n",
    "\n",
    "  def incremento():\n",
    "    nonlocal valor_actual\n",
    "    valor_actual += 1\n",
    "    print(valor_actual)\n",
    "\n",
    "  incremento()\n",
    "\n",
    "contador()\n"
   ]
  },
  {
   "cell_type": "markdown",
   "metadata": {},
   "source": [
    "## 29. Cierres (closures)"
   ]
  },
  {
   "cell_type": "code",
   "execution_count": null,
   "metadata": {},
   "outputs": [],
   "source": [
    "# Cierres\n",
    "def contador():\n",
    "  valor_actual = 0\n",
    "\n",
    "  def incremento():\n",
    "    nonlocal valor_actual\n",
    "    valor_actual += 1\n",
    "    return valor_actual\n",
    "\n",
    "  return incremento\n",
    "\n",
    "incremento = contador()\n",
    "\n",
    "print(incremento())\n",
    "print(incremento())\n",
    "print(incremento())"
   ]
  },
  {
   "cell_type": "markdown",
   "metadata": {},
   "source": [
    "## 30. Objetos\n",
    "\n",
    "Toto en Python, son objetos.\n",
    "\n",
    "Los objetos tienen **atributos** y **métodos**, y se puede acceder a ellos a través de la **sintaxis de punto**."
   ]
  },
  {
   "cell_type": "code",
   "execution_count": null,
   "metadata": {},
   "outputs": [],
   "source": []
  },
  {
   "cell_type": "markdown",
   "metadata": {},
   "source": [
    "## 31. Funciones de primera clase (first-class functions)"
   ]
  },
  {
   "cell_type": "code",
   "execution_count": null,
   "metadata": {},
   "outputs": [],
   "source": [
    "# Funciones de primera clase: tratamiento de variables como funciones\n",
    "# Asignación de una función a una variable\n",
    "\n",
    "def cuadrado(x):\n",
    "  return x * x\n",
    "\n",
    "fn = cuadrado(5) # aquí almaceno en la var fn el resultado de cuadrado(5)\n",
    "print(cuadrado)\n",
    "print(fn)\n",
    "\n",
    "print()\n",
    "\n",
    "fn = cuadrado # ver que no ponemos los paréntesis de la función cuadrado\n",
    "print(cuadrado) # pero aquí almaceno en la var fn la función cuadrado en sí misma\n",
    "print(fn)"
   ]
  },
  {
   "cell_type": "code",
   "execution_count": null,
   "metadata": {},
   "outputs": [],
   "source": [
    "# Ahora trato a la var fn como una función\n",
    "print(fn(5))"
   ]
  },
  {
   "cell_type": "code",
   "execution_count": null,
   "metadata": {},
   "outputs": [],
   "source": [
    "'''\n",
    "// Asignación de una función a una variable - javascript\n",
    "function cuadrado(x) {\n",
    "  return x * x;\n",
    "}\n",
    "\n",
    "let fn = cuadrado(5); // aquí almaceno en la var fn el resultado de cuadrado(5)\n",
    "console.log(cuadrado);\n",
    "console.log(fn);\n",
    "\n",
    "console.log();\n",
    "\n",
    "fn = cuadrado; // ver que no ponemos los paréntesis de la función cuadrado\n",
    "console.log(cuadrado); // pero aquí almaceno en la var fn la función cuadrado en sí misma\n",
    "console.log(fn);\n",
    "'''"
   ]
  },
  {
   "cell_type": "code",
   "execution_count": null,
   "metadata": {
    "vscode": {
     "languageId": "javascript"
    }
   },
   "outputs": [],
   "source": [
    "// Asignación de una función a una variable - javascript\n",
    "function cuadrado(x) {\n",
    "  return x * x;\n",
    "}\n",
    "\n",
    "let fn = cuadrado(5); // aquí almaceno en la var fn el resultado de cuadrado(5)\n",
    "element.text(cuadrado);\n",
    "element.text(fn);\n",
    "\n",
    "element.text();\n",
    "\n",
    "fn = cuadrado; // ver que no ponemos los paréntesis de la función cuadrado\n",
    "element.text(cuadrado); // pero aquí almaceno en la var fn la función cuadrado en sí misma\n",
    "element.text(fn);"
   ]
  },
  {
   "cell_type": "markdown",
   "metadata": {},
   "source": [
    "## 32. Funciones de orden superior (higher-order functions)\n",
    "\n",
    "Cuando hablamos de **funciones de orden superior**, hablamos de funciones que cumplen una de las siguientes dos características:\n",
    "\n",
    "- pasar una función como argumento a otra función, y\n",
    "- devolver funciones como resultado de otras funciones.\n"
   ]
  },
  {
   "cell_type": "code",
   "execution_count": null,
   "metadata": {},
   "outputs": [],
   "source": [
    "# Pasar una función como argumento a otra función\n",
    "'''\n",
    "En este caso la función mi_mapeo acepta una función como\n",
    "primer argumento y luego toma una lista como segundo argumento.\n",
    "IMPORTANTE: observá que cuando llamamos a la función cuadrado\n",
    "(primer argumento de mi_mapeo) lo hacemos sin los paréntesis.\n",
    "Lo hacemos sin los paréntesis porque si no ejecutaría la función\n",
    "en ese momento y queremos aguardar a que la ejecución se realice\n",
    "en resultado.append((func(i))) (vean que aquí sí usamos los\n",
    "paréntesis).\n",
    "'''\n",
    "def cuadrado(x):\n",
    "  return x * x\n",
    "\n",
    "def cubo(x):\n",
    "  return x * x * x\n",
    "\n",
    "def mi_mapeo(func, lista_args):\n",
    "  resultado = []\n",
    "  for i in lista_args:\n",
    "    resultado.append((func(i)))\n",
    "  return resultado\n",
    "\n",
    "cuadrados = mi_mapeo(cuadrado, [1, 2, 3, 4, 5])\n",
    "\n",
    "print(cuadrados)"
   ]
  },
  {
   "cell_type": "code",
   "execution_count": null,
   "metadata": {},
   "outputs": [],
   "source": [
    "'''\n",
    "// Pasar una función como argumento a otra función\n",
    "/*\n",
    "En este caso la función mi_mapeo acepta una función como\n",
    "primer argumento y luego toma una lista como segundo argumento.\n",
    "IMPORTANTE: observá que cuando llamamos a la función cuadrado\n",
    "(primer argumento de mi_mapeo) lo hacemos sin los paréntesis.\n",
    "Lo hacemos sin los paréntesis porque si no ejecutaría la función\n",
    "en ese momento y queremos aguardar a que la ejecución se realice\n",
    "en resultado.append((func(i))) (vean que aquí sí usamos los\n",
    "paréntesis).\n",
    "*/\n",
    "function cuadrado(x) {\n",
    "  return x * x;\n",
    "}\n",
    "\n",
    "function cubo(x) {\n",
    "  return x * x * x;\n",
    "}\n",
    "\n",
    "function mi_mapeo(func, lista_args) {\n",
    "  resultado = [];\n",
    "  for (let i = 1; i <= lista_args.length; i++) {\n",
    "    resultado.push(func(i));\n",
    "  }\n",
    "  return resultado;\n",
    "}\n",
    "\n",
    "let cuadrados = mi_mapeo(cuadrado, [1, 2, 3, 4, 5]);\n",
    "\n",
    "console.log(cuadrados);\n",
    "'''"
   ]
  },
  {
   "cell_type": "code",
   "execution_count": null,
   "metadata": {},
   "outputs": [],
   "source": [
    "# Devolver funciones como resultado de otras funciones\n",
    "'''\n",
    "Observen como return devuelve la función msj_registrador\n",
    "sin los paréntesis, por lo tanto no se ejecuta en ese\n",
    "momento.\n",
    "Por otro lado, la variable registro_saludo almacena la\n",
    "función devuelta por el return (a esto se lo llama \"cierre\").\n",
    "Por último, llamamos a la variable registro_saludo pero\n",
    "esta vez con los paréntesis de forma tal que es tratada\n",
    "como función imprimiento el mensaje \"Registro: ¡Hola!\".\n",
    "'''\n",
    "def registrador(msg):\n",
    "\n",
    "  def msj_registrador():\n",
    "    print('Registro: ', msg)\n",
    "\n",
    "  return msj_registrador\n",
    "\n",
    "registro_saludo = registrador(\"¡Hola!\")\n",
    "registro_saludo()"
   ]
  },
  {
   "cell_type": "code",
   "execution_count": null,
   "metadata": {},
   "outputs": [],
   "source": [
    "'''\n",
    "//Devolver funciones como resultado de otras funciones\n",
    "/*\n",
    "Observen como return devuelve la función msj_registrador\n",
    "sin los paréntesis, por lo tanto no se ejecuta en ese\n",
    "momento.\n",
    "Por otro lado, la variable registro_saludo almacena la\n",
    "función devuelta por el return (a esto se lo llama \"cierre\").\n",
    "Por último, llamamos a la variable registro_saludo pero\n",
    "esta vez con los paréntesis de forma tal que es tratada\n",
    "como función imprimiento el mensaje \"Registro: ¡Hola!\".\n",
    "*/\n",
    "function registrador(msj) {\n",
    "\n",
    "  function msj_registrador() {\n",
    "    console.log('Registro: ' + msj);\n",
    "  }\n",
    "\n",
    "  return msj_registrador;\n",
    "}\n",
    "\n",
    "registro_saludo = registrador(\"¡Hola!\");\n",
    "registro_saludo();\n",
    "'''"
   ]
  },
  {
   "cell_type": "markdown",
   "metadata": {},
   "source": [
    "Veamos un ejemplo de aplicación concreta:"
   ]
  },
  {
   "cell_type": "code",
   "execution_count": null,
   "metadata": {},
   "outputs": [],
   "source": [
    "def etiqueta_html(etiq):\n",
    "\n",
    "  def formatear_texto(msj):\n",
    "    print(\"<{0}>{1}</{0}\".format(etiq, msj))\n",
    "  return formatear_texto\n",
    "\n",
    "imprime_h1 = etiqueta_html(\"h1\")\n",
    "# Probá imprimir imprime_h1 para ver qué devuelve antes de seguir\n",
    "imprime_h1(\"Este es un título h1\")\n",
    "imprime_h1(\"Este es otro título h1\")\n",
    "\n",
    "imprime_p = etiqueta_html(\"p\")\n",
    "imprime_p(\"Este es un párrafo.\")\n"
   ]
  },
  {
   "cell_type": "code",
   "execution_count": null,
   "metadata": {},
   "outputs": [],
   "source": [
    "'''\n",
    "function etiqueta_html(etiq) {\n",
    "\n",
    "  function formatear_texto(msj) {\n",
    "    console.log(\"<\" + etiq + \">\" + msj + \"</\" + etiq + \">\");\n",
    "  }\n",
    "  return formatear_texto\n",
    "}\n",
    "\n",
    "imprime_h1 = etiqueta_html(\"h1\");\n",
    "// Probá imprimir imprime_h1 para ver qué devuelve antes de seguir\n",
    "imprime_h1(\"Este es un título h1\");\n",
    "imprime_h1(\"Este es otro título h1\");\n",
    "\n",
    "imprime_p = etiqueta_html(\"p\");\n",
    "imprime_p(\"Este es un párrafo.\");\n",
    "'''"
   ]
  }
 ],
 "metadata": {
  "kernelspec": {
   "display_name": "Python 3",
   "language": "python",
   "name": "python3"
  },
  "language_info": {
   "codemirror_mode": {
    "name": "ipython",
    "version": 3
   },
   "file_extension": ".py",
   "mimetype": "text/x-python",
   "name": "python",
   "nbconvert_exporter": "python",
   "pygments_lexer": "ipython3",
   "version": "3.10.10"
  },
  "orig_nbformat": 4
 },
 "nbformat": 4,
 "nbformat_minor": 2
}
