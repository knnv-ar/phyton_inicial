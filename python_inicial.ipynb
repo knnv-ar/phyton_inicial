{
 "cells": [
  {
   "cell_type": "markdown",
   "metadata": {},
   "source": [
    "# Python - Nivel inicial\n",
    "por Raúl Federico Lacabanne - Artes Multimediales 4 - UNA"
   ]
  },
  {
   "cell_type": "markdown",
   "metadata": {},
   "source": [
    "Para empezar comencemos viendo cómo podemos imprimir un texto en pantalla. Para eso usaremos la función `print()`:"
   ]
  },
  {
   "cell_type": "markdown",
   "metadata": {},
   "source": [
    "| Ejemplo                                 | Tipo de dato     |\n",
    "|-----------------------------------------|---------------|\n",
    "| x = \"Hello World\"                      | str           |\n",
    "| x = 20                                  | int           |\n",
    "| x = 20.5                                | float         |\n",
    "| x = 1j                                  | complex       |\n",
    "| x = [\"apple\", \"banana\", \"cherry\"]      | list          |\n",
    "| x = (\"apple\", \"banana\", \"cherry\")      | tuple         |\n",
    "| x = range(6)                           | range         |\n",
    "| x = {\"name\" : \"John\", \"age\" : 36}      | dict          |\n",
    "| x = {\"apple\", \"banana\", \"cherry\"}      | set           |\n",
    "| x = frozenset({\"apple\", \"banana\", \"cherry\"}) | frozenset |\n",
    "| x = True                               | bool          |\n",
    "| x = b\"Hello\"                           | bytes         |\n",
    "| x = bytearray(5)                       | bytearray     |\n",
    "| x = memoryview(bytes(5))               | memoryview    |\n",
    "| x = None                               | NoneType      |\n",
    "\n",
    "\n",
    "## Tipos de datos para almacenas colecciones de datos\n",
    "\n",
    "### Tupla\n",
    "`x = (\"apple\", \"banana\", \"cherry\")`\n",
    "\n",
    "### Diccionario\n",
    "`x = {\"name\" : \"John\", \"age\" : 36}`\n",
    "\n",
    "### Conjunto\n",
    "`x = {\"apple\", \"banana\", \"cherry\"}`\n",
    "\n",
    "### Conjunto congelado\n",
    "`x = frozenset({\"apple\", \"banana\", \"cherry\"})`"
   ]
  },
  {
   "cell_type": "markdown",
   "metadata": {},
   "source": [
    "## 1. Comenzamos este viaje"
   ]
  },
  {
   "cell_type": "code",
   "execution_count": null,
   "metadata": {},
   "outputs": [
    {
     "name": "stdout",
     "output_type": "stream",
     "text": [
      "Hola mundo\n"
     ]
    }
   ],
   "source": [
    "print(\"Hola mundo\")"
   ]
  },
  {
   "cell_type": "markdown",
   "metadata": {},
   "source": [
    "1. Funciones\n",
    "2. Variables\n",
    "3. Expresiones\n",
    "4. Instrucciones\n",
    "5. Comentarios\n",
    "6. Sangría\n",
    "7. Tipos de dato\n",
    "8. Operadores aritméticos\n",
    "9. Operadores de comparación\n",
    "10. Operadores booleanos\n",
    "11. Operadores bit a bit (bitwise operators)\n",
    "12. Operadores is e in (is & in operators)\n",
    "13. Operador ternario (ternary operator)\n",
    "14. Cadenas de texto\n",
    "15. Métodos de cadenas de textos\n",
    "16. Caracteres de escape (para agregar caracteres especial a una cadena)\n",
    "17. Caracteres de cadena y corte (String characters and slicing)\n",
    "18. Booleanas\n",
    "19. Tipos de datos numéricos\n",
    "20. Funciones globales utiles para los números\n",
    "21. Enums (usado para crear constantes)\n",
    "22. USER INPUT\n",
    "23. Listas\n",
    "24. Tuplas\n",
    "25. Diccionarios [1:53:50]"
   ]
  },
  {
   "cell_type": "markdown",
   "metadata": {},
   "source": [
    "## 24. Tuplas\n",
    "\n",
    "Ahora vamos con las **tuplas**.\n",
    "\n",
    "Las **tuplas** son estructuras de datos que permiten crear grupos de objetos inmutables.\n",
    "\n",
    "Esto significa que una vez que hayamos creado una tupla, esta no puede ser modificada (ni cambiar el valor de los elementos, ni agregar, ni eliminar otros elementos).\n",
    "\n",
    "Para crear una tupla usamos paréntesis."
   ]
  },
  {
   "cell_type": "code",
   "execution_count": null,
   "metadata": {},
   "outputs": [
    {
     "name": "stdout",
     "output_type": "stream",
     "text": [
      "('Hera', 'Zeus', 'Hebe', 'Ares', 'Ilitía')\n",
      "Hebe\n",
      "2\n",
      "Ilitía\n",
      "5\n"
     ]
    }
   ],
   "source": [
    "inmortales = (\"Hera\", \"Zeus\", \"Hebe\", \"Ares\", \"Ilitía\")\n",
    "print(inmortales)\n",
    "print(inmortales[2]) \n",
    "print(inmortales.index(\"Hebe\"))\n",
    "print(inmortales[-1])\n",
    "print(len(inmortales))"
   ]
  },
  {
   "cell_type": "markdown",
   "metadata": {},
   "source": [
    "También podemos hacer:"
   ]
  },
  {
   "cell_type": "code",
   "execution_count": null,
   "metadata": {},
   "outputs": [
    {
     "name": "stdout",
     "output_type": "stream",
     "text": [
      "('Hera', 'Zeus', 'Hebe', 'Ares', 'Ilitía')\n",
      "False\n",
      "('Zeus', 'Hebe', 'Ares')\n",
      "['Ares', 'Hebe', 'Hera', 'Ilitía', 'Zeus']\n"
     ]
    }
   ],
   "source": [
    "inmortales = (\"Hera\", \"Zeus\", \"Hebe\", \"Ares\", \"Ilitía\")\n",
    "print(inmortales)\n",
    "print(\"Heracles\" in inmortales)\n",
    "print(inmortales[1:4])\n",
    "print(sorted(inmortales))"
   ]
  },
  {
   "cell_type": "markdown",
   "metadata": {},
   "source": [
    "Por último, puedo crear una tupla utilizando una tupla previa mediante el operador de asignación:"
   ]
  },
  {
   "cell_type": "code",
   "execution_count": null,
   "metadata": {},
   "outputs": [
    {
     "name": "stdout",
     "output_type": "stream",
     "text": [
      "('Hera', 'Zeus')\n",
      "('Hera', 'Zeus', 'Hebe', 'Ares', 'Ilitía')\n"
     ]
    }
   ],
   "source": [
    "inmortales2 = (\"Hera\", \"Zeus\")\n",
    "print(inmortales2)\n",
    "\n",
    "inmortales2 += (\"Hebe\", \"Ares\", \"Ilitía\")\n",
    "print(inmortales2)"
   ]
  },
  {
   "cell_type": "markdown",
   "metadata": {},
   "source": [
    "## 25. Diccionarios\n",
    "\n",
    "Llegó el turno de los **diccionarios**. Estos son parte de las estructuras de datos de Python.\n",
    "\n",
    "> Los **diccionarios** permiten *crear múltiples pares clave-valor*. El contenido de la *clave* será *inmutable*."
   ]
  },
  {
   "cell_type": "code",
   "execution_count": 23,
   "metadata": {},
   "outputs": [
    {
     "name": "stdout",
     "output_type": "stream",
     "text": [
      "teatro\n",
      "12\n",
      "13\n",
      "3\n"
     ]
    }
   ],
   "source": [
    "artista = { \"nombre\": \"Clara\", \"disciplina\": \"teatro\", \"obras_realizadas\": 12 }\n",
    "print(artista[\"disciplina\"])\n",
    "\n",
    "print(artista[\"obras_realizadas\"])\n",
    "artista[\"obras_realizadas\"] = 13\n",
    "print(artista[\"obras_realizadas\"])\n",
    "\n",
    "print(len(artista))"
   ]
  },
  {
   "cell_type": "code",
   "execution_count": 16,
   "metadata": {},
   "outputs": [
    {
     "name": "stdout",
     "output_type": "stream",
     "text": [
      "Clara\n",
      "La clave solicitada no se encuentra en el sistema\n"
     ]
    }
   ],
   "source": [
    "#Método .get() . Si no encuentra la clave solicitada, puede devolver un valor por defecto.\n",
    "print(artista.get(\"nombre\"))\n",
    "print(artista.get(\"edad\", \"La clave solicitada no se encuentra en el sistema\"))"
   ]
  },
  {
   "cell_type": "code",
   "execution_count": 17,
   "metadata": {},
   "outputs": [
    {
     "name": "stdout",
     "output_type": "stream",
     "text": [
      "teatro\n",
      "{'nombre': 'Clara', 'obras_realizadas': 13}\n"
     ]
    }
   ],
   "source": [
    "#Método .pop(): devuelve el valor asociado a la clave y la borra del diccionario.\n",
    "print(artista.pop(\"disciplina\"))\n",
    "print(artista)"
   ]
  },
  {
   "cell_type": "code",
   "execution_count": 14,
   "metadata": {},
   "outputs": [
    {
     "name": "stdout",
     "output_type": "stream",
     "text": [
      "('nombre', 'Clara')\n",
      "{}\n"
     ]
    }
   ],
   "source": [
    "#Método .popitem(): devuelve el valor asociado a la última clave del diccionario y la borra.\n",
    "print(artista.popitem())\n",
    "print(artista)"
   ]
  },
  {
   "cell_type": "code",
   "execution_count": 18,
   "metadata": {},
   "outputs": [
    {
     "name": "stdout",
     "output_type": "stream",
     "text": [
      "True\n"
     ]
    }
   ],
   "source": [
    "#Usar la palabra clave _in_ para comprobar si una clave se encuentra en un diccionario.\n",
    "print(\"nombre\" in artista)"
   ]
  },
  {
   "cell_type": "code",
   "execution_count": 20,
   "metadata": {},
   "outputs": [
    {
     "name": "stdout",
     "output_type": "stream",
     "text": [
      "dict_keys(['nombre', 'disciplina', 'obras_realizadas'])\n",
      "['nombre', 'disciplina', 'obras_realizadas']\n"
     ]
    }
   ],
   "source": [
    "# Para listar todas las claves de un diccionario.\n",
    "artista = { \"nombre\": \"Clara\", \"disciplina\": \"teatro\", \"obras_realizadas\": 12 }\n",
    "print(artista.keys())\n",
    "\n",
    "# O bien pasarlas como lista\n",
    "artista = { \"nombre\": \"Clara\", \"disciplina\": \"teatro\", \"obras_realizadas\": 12 }\n",
    "print(list(artista.keys()))"
   ]
  },
  {
   "cell_type": "code",
   "execution_count": 21,
   "metadata": {},
   "outputs": [
    {
     "name": "stdout",
     "output_type": "stream",
     "text": [
      "dict_values(['Clara', 'teatro', 12])\n",
      "['Clara', 'teatro', 12]\n"
     ]
    }
   ],
   "source": [
    "# Para listar todos los valores de un diccionario.\n",
    "artista = { \"nombre\": \"Clara\", \"disciplina\": \"teatro\", \"obras_realizadas\": 12 }\n",
    "print(artista.values())\n",
    "\n",
    "# O bien pasarlos como lista\n",
    "artista = { \"nombre\": \"Clara\", \"disciplina\": \"teatro\", \"obras_realizadas\": 12 }\n",
    "print(list(artista.values()))"
   ]
  },
  {
   "cell_type": "code",
   "execution_count": 22,
   "metadata": {},
   "outputs": [
    {
     "name": "stdout",
     "output_type": "stream",
     "text": [
      "dict_items([('nombre', 'Clara'), ('disciplina', 'teatro'), ('obras_realizadas', 12)])\n",
      "[('nombre', 'Clara'), ('disciplina', 'teatro'), ('obras_realizadas', 12)]\n"
     ]
    }
   ],
   "source": [
    "# Para listar todos los items de un diccionario.\n",
    "artista = { \"nombre\": \"Clara\", \"disciplina\": \"teatro\", \"obras_realizadas\": 12 }\n",
    "print(artista.items())\n",
    "\n",
    "# O bien pasarlos como lista\n",
    "artista = { \"nombre\": \"Clara\", \"disciplina\": \"teatro\", \"obras_realizadas\": 12 }\n",
    "print(list(artista.items()))"
   ]
  },
  {
   "cell_type": "code",
   "execution_count": 26,
   "metadata": {},
   "outputs": [
    {
     "name": "stdout",
     "output_type": "stream",
     "text": [
      "{'nombre': 'Clara', 'disciplina': 'teatro', 'obras_realizadas': 12, 'en_actividad': True}\n"
     ]
    }
   ],
   "source": [
    "# Para agregar un item a un diccionario.\n",
    "artista = { \"nombre\": \"Clara\", \"disciplina\": \"teatro\", \"obras_realizadas\": 12 }\n",
    "artista[\"en_actividad\"] = True\n",
    "print(artista)"
   ]
  },
  {
   "cell_type": "code",
   "execution_count": 27,
   "metadata": {},
   "outputs": [
    {
     "name": "stdout",
     "output_type": "stream",
     "text": [
      "{'nombre': 'Clara', 'disciplina': 'teatro', 'obras_realizadas': 12}\n"
     ]
    }
   ],
   "source": [
    "# Para eliminar un item de un diccionario.\n",
    "del artista[\"en_actividad\"]\n",
    "print(artista)"
   ]
  },
  {
   "cell_type": "code",
   "execution_count": 28,
   "metadata": {},
   "outputs": [
    {
     "name": "stdout",
     "output_type": "stream",
     "text": [
      "{'nombre': 'Clara', 'disciplina': 'teatro', 'obras_realizadas': 12}\n"
     ]
    }
   ],
   "source": [
    "# Para realizar una copia de un diccionario.\n",
    "artista_copia = artista.copy()\n",
    "print(artista_copia)"
   ]
  },
  {
   "cell_type": "markdown",
   "metadata": {},
   "source": [
    "## 26. Conjuntos (sets)\n",
    "\n",
    "Veremos qué se entiendo por **conjuntos**. Estos permiten almacenar múltiples elementos en una sola variable, de forma no ordenada y son mutables, es decir se puede cambiar su contenido.\n",
    "\n",
    "También se pueden entender como diccionarios sin claves.\n",
    "\n",
    "Pero hay una versión de conjunto que se denomina **conjunto congelado** que es inmutable."
   ]
  },
  {
   "cell_type": "code",
   "execution_count": 41,
   "metadata": {},
   "outputs": [
    {
     "name": "stdout",
     "output_type": "stream",
     "text": [
      "{'vidrio', 'madera'}\n",
      "{'roca', 'cartón', 'madera', 'vidrio', 'hierro', 'electrónica'}\n",
      "{'roca', 'hierro'}\n",
      "True\n"
     ]
    }
   ],
   "source": [
    "materiales1 = {\"madera\", \"roca\", \"vidrio\", \"hierro\"}\n",
    "materiales2 = {\"madera\", \"cartón\", \"electrónica\", \"vidrio\"}\n",
    "\n",
    "# Interseción de conjuntos\n",
    "intersect = materiales1 & materiales2\n",
    "print(intersect)\n",
    "\n",
    "# Unión de conjuntos\n",
    "union = materiales1 | materiales2\n",
    "print(union)\n",
    "\n",
    "# Diferencia de conjuntos\n",
    "diferencia = materiales1 - materiales2\n",
    "print(diferencia)\n",
    "\n",
    "# Superconjuntos y subconjuntos\n",
    "materiales3 = {\"madera\", \"roca\", \"vidrio\", \"hierro\"}\n",
    "materiales4 = {\"madera\", \"vidrio\"}\n",
    "m3_es_superconjunto_de_m4 = materiales3 > materiales4\n",
    "print(m3_es_superconjunto_de_m4)"
   ]
  },
  {
   "cell_type": "markdown",
   "metadata": {},
   "source": [
    "Por supuesto que es posible utilizar la función `len()`, utilizar `list()` para generar una lista de un conjunto, utilizar la palabra clave `in` para corroborar si algún elemento se encuentra en el conjunto."
   ]
  },
  {
   "cell_type": "markdown",
   "metadata": {},
   "source": [
    "> Algo muy importante a tomar en cuenta: en un conjunto no puede haber elementos repetidos."
   ]
  },
  {
   "cell_type": "code",
   "execution_count": 42,
   "metadata": {},
   "outputs": [
    {
     "name": "stdout",
     "output_type": "stream",
     "text": [
      "{'unicornios', 'cebras', 'caballos'}\n"
     ]
    }
   ],
   "source": [
    "conjunto1 = {\"unicornios\", \"caballos\", \"cebras\", \"unicornios\"}\n",
    "print(conjunto1)"
   ]
  },
  {
   "cell_type": "markdown",
   "metadata": {},
   "source": [
    "## 26. Funciones\n",
    "\n",
    "Una **función** nos permite crear un conjunto de instrucciones que podemos ejecutar cuando las necesitemos.\n",
    "\n",
    "En la *definición* de las funciones, el cuerpo (o bloque) de instrucciones está marcada por la *indentación* que puede ser de dos espacios o cuatro espacios.\n",
    "\n",
    "Por ejemplo:"
   ]
  },
  {
   "cell_type": "code",
   "execution_count": 43,
   "metadata": {},
   "outputs": [],
   "source": [
    "# Recuerden que para cadenas de texto se puede utilizar comillas simples o dobles.\n",
    "# Lo importante es ser consistente con su uso.\n",
    "def saludo():\n",
    "  print(\"¡Hola!\")"
   ]
  },
  {
   "cell_type": "markdown",
   "metadata": {},
   "source": [
    "Y cada vez que la quiero utilizar la llamo de la siguiente manera:"
   ]
  },
  {
   "cell_type": "code",
   "execution_count": 46,
   "metadata": {},
   "outputs": [
    {
     "name": "stdout",
     "output_type": "stream",
     "text": [
      "¡Hola!\n"
     ]
    }
   ],
   "source": [
    "saludo()"
   ]
  },
  {
   "cell_type": "markdown",
   "metadata": {},
   "source": [
    "Una función puede aceptar uno o más parámetros si es necesario:"
   ]
  },
  {
   "cell_type": "code",
   "execution_count": 48,
   "metadata": {},
   "outputs": [],
   "source": [
    "# nombre es un parámetro\n",
    "def saludo2(nombre):\n",
    "  print(\"¡Hola \" + nombre + \"!\")"
   ]
  },
  {
   "cell_type": "code",
   "execution_count": 52,
   "metadata": {},
   "outputs": [
    {
     "name": "stdout",
     "output_type": "stream",
     "text": [
      "¡Hola Ana!\n",
      "¡Hola Clara!\n",
      "¡Hola Pedro!\n"
     ]
    }
   ],
   "source": [
    "# Ana, Clara o Pedro son argumentos.\n",
    "saludo2(\"Ana\")\n",
    "saludo2(\"Clara\")\n",
    "saludo2(\"Pedro\")"
   ]
  },
  {
   "cell_type": "markdown",
   "metadata": {},
   "source": [
    "Si no pasamos ningún argumento a la función anterior, nos devolverá un mensaje de error.\n",
    "\n",
    "Para subsanar esto podemos incluir un **valor por defecto** al parámetro requerido:"
   ]
  },
  {
   "cell_type": "code",
   "execution_count": 53,
   "metadata": {},
   "outputs": [
    {
     "name": "stdout",
     "output_type": "stream",
     "text": [
      "¡Hola Juan!\n",
      "¡Hola amigo mío!\n"
     ]
    }
   ],
   "source": [
    "def saludo3(nombre = \"amigo mío\"):\n",
    "  print(\"¡Hola \" + nombre + \"!\")\n",
    "\n",
    "saludo3(\"Juan\")\n",
    "saludo3()"
   ]
  },
  {
   "cell_type": "markdown",
   "metadata": {},
   "source": [
    "Otro ejemplo de función pero con dos parámetros:"
   ]
  },
  {
   "cell_type": "code",
   "execution_count": 58,
   "metadata": {},
   "outputs": [
    {
     "name": "stdout",
     "output_type": "stream",
     "text": [
      "¡Hola Juan, tu tienes 22 de edad!\n"
     ]
    }
   ],
   "source": [
    "def saludo4(nombre, edad):\n",
    "  print(\"¡Hola \" + nombre + \", tu tienes \" + str(edad) + \" de edad!\")\n",
    "\n",
    "saludo4(\"Juan\", 22)"
   ]
  },
  {
   "cell_type": "code",
   "execution_count": 59,
   "metadata": {},
   "outputs": [
    {
     "name": "stdout",
     "output_type": "stream",
     "text": [
      "1\n"
     ]
    }
   ],
   "source": [
    "def cambio(valor):\n",
    "  valor = 2\n",
    "\n",
    "val = 1\n",
    "cambio(val)\n",
    "\n",
    "print(val)"
   ]
  },
  {
   "cell_type": "markdown",
   "metadata": {},
   "source": [
    "En Python tenemos objetos de dos tipos de tipos de datos: los inmutables y los mutables.\n",
    "\n",
    "Los **tipos de datos inmutables** no puden cambiar su valor por afuera de su ámbito de aplicación. Ellos son:\n",
    "\n",
    "- booleanas,\n",
    "- enteros,\n",
    "- decimales,\n",
    "- cadenas de texto,\n",
    "- bytes,\n",
    "- tuplas,\n",
    "- rango, y\n",
    "- conjuntos congelados.\n",
    "\n",
    "Mientras que los **tipos de datos mutables** son:\n",
    "\n",
    "- listas,\n",
    "- diccionarios,\n",
    "- conjuntos,\n",
    "- clases definidas por usuario, y\n",
    "- byte arrays\n",
    "\n",
    "Para más información ver: https://realpython.com/python-mutable-vs-immutable-types/"
   ]
  },
  {
   "cell_type": "code",
   "execution_count": 66,
   "metadata": {},
   "outputs": [
    {
     "name": "stdout",
     "output_type": "stream",
     "text": [
      "1\n"
     ]
    }
   ],
   "source": [
    "def cambio(valor):\n",
    "  valor = 2\n",
    "\n",
    "val = 1\n",
    "cambio(val)\n",
    "\n",
    "print(val)"
   ]
  }
 ],
 "metadata": {
  "kernelspec": {
   "display_name": "Python 3",
   "language": "python",
   "name": "python3"
  },
  "language_info": {
   "codemirror_mode": {
    "name": "ipython",
    "version": 3
   },
   "file_extension": ".py",
   "mimetype": "text/x-python",
   "name": "python",
   "nbconvert_exporter": "python",
   "pygments_lexer": "ipython3",
   "version": "3.10.10"
  },
  "orig_nbformat": 4
 },
 "nbformat": 4,
 "nbformat_minor": 2
}
