{
 "cells": [
  {
   "cell_type": "markdown",
   "metadata": {},
   "source": [
    "# Python - Nivel inicial\n",
    "por Raúl Federico Lacabanne - Artes Multimediales 4 - UNA"
   ]
  },
  {
   "cell_type": "markdown",
   "metadata": {},
   "source": [
    "Para empezar comencemos viendo cómo podemos imprimir un texto en pantalla. Para eso usaremos la función `print()`:"
   ]
  },
  {
   "cell_type": "markdown",
   "metadata": {},
   "source": [
    "## 1. Comenzamos este viaje"
   ]
  },
  {
   "cell_type": "code",
   "execution_count": 1,
   "metadata": {},
   "outputs": [
    {
     "name": "stdout",
     "output_type": "stream",
     "text": [
      "Hola mundo\n"
     ]
    }
   ],
   "source": [
    "print(\"Hola mundo\")"
   ]
  },
  {
   "cell_type": "markdown",
   "metadata": {},
   "source": [
    "1. Funciones\n",
    "2. Variables\n",
    "3. Expresiones\n",
    "4. Instrucciones\n",
    "5. Comentarios\n",
    "6. Sangría\n",
    "7. Tipos de dato\n",
    "8. Operadores aritméticos\n",
    "9. Operadores de comparación\n",
    "10. Operadores booleanos\n",
    "11. Operadores bit a bit (bitwise operators)\n",
    "12. Operadores is e in (is & in operators)\n",
    "13. Operador ternario (ternary operator)\n",
    "14. Cadenas de texto\n",
    "15. Métodos de cadenas de textos\n",
    "16. Caracteres de escape (para agregar caracteres especial a una cadena)\n",
    "17. Caracteres de cadena y corte (String characters and slicing)\n",
    "18. Booleanas\n",
    "19. Tipos de datos numéricos\n",
    "20. Funciones globales utiles para los números\n",
    "21. Enums (usado para crear constantes)\n",
    "22. USER INPUT\n",
    "23. Listas\n",
    "24. Tuplas\n",
    "25. Diccionarios [1:53:50]"
   ]
  },
  {
   "cell_type": "markdown",
   "metadata": {},
   "source": [
    "## 24. Tuplas\n",
    "\n",
    "Ahora vamos con las **tuplas**.\n",
    "\n",
    "Las **tuplas** son estructuras de datos que permiten crear grupos de objetos inmutables.\n",
    "\n",
    "Esto significa que una vez que hayamos creado una tupla, esta no puede ser modificada (ni cambiar el valor de los elementos, ni agregar, ni eliminar otros elementos).\n",
    "\n",
    "Para crear una tupla usamos paréntesis."
   ]
  },
  {
   "cell_type": "code",
   "execution_count": 6,
   "metadata": {},
   "outputs": [
    {
     "name": "stdout",
     "output_type": "stream",
     "text": [
      "('Hera', 'Zeus', 'Hebe', 'Ares', 'Ilitía')\n",
      "Hebe\n",
      "2\n",
      "Ilitía\n",
      "5\n"
     ]
    }
   ],
   "source": [
    "inmortales = (\"Hera\", \"Zeus\", \"Hebe\", \"Ares\", \"Ilitía\")\n",
    "print(inmortales)\n",
    "print(inmortales[2]) \n",
    "print(inmortales.index(\"Hebe\"))\n",
    "print(inmortales[-1])\n",
    "print(len(inmortales))"
   ]
  },
  {
   "cell_type": "markdown",
   "metadata": {},
   "source": [
    "También podemos hacer:"
   ]
  },
  {
   "cell_type": "code",
   "execution_count": 10,
   "metadata": {},
   "outputs": [
    {
     "name": "stdout",
     "output_type": "stream",
     "text": [
      "('Hera', 'Zeus', 'Hebe', 'Ares', 'Ilitía')\n",
      "False\n",
      "('Zeus', 'Hebe', 'Ares')\n",
      "['Ares', 'Hebe', 'Hera', 'Ilitía', 'Zeus']\n"
     ]
    }
   ],
   "source": [
    "inmortales = (\"Hera\", \"Zeus\", \"Hebe\", \"Ares\", \"Ilitía\")\n",
    "print(inmortales)\n",
    "print(\"Heracles\" in inmortales)\n",
    "print(inmortales[1:4])\n",
    "print(sorted(inmortales))"
   ]
  },
  {
   "cell_type": "markdown",
   "metadata": {},
   "source": [
    "Por último, puedo crear una tupla utilizando una tupla previa mediante el operador de asignación:"
   ]
  },
  {
   "cell_type": "code",
   "execution_count": 13,
   "metadata": {},
   "outputs": [
    {
     "name": "stdout",
     "output_type": "stream",
     "text": [
      "('Hera', 'Zeus')\n",
      "('Hera', 'Zeus', 'Hebe', 'Ares', 'Ilitía')\n"
     ]
    }
   ],
   "source": [
    "inmortales2 = (\"Hera\", \"Zeus\")\n",
    "print(inmortales2)\n",
    "\n",
    "inmortales2 += (\"Hebe\", \"Ares\", \"Ilitía\")\n",
    "print(inmortales2)"
   ]
  },
  {
   "cell_type": "markdown",
   "metadata": {},
   "source": [
    "## 25. Diccionarios\n",
    "\n",
    "Llegó el turno de los **diccionarios**."
   ]
  }
 ],
 "metadata": {
  "kernelspec": {
   "display_name": "Python 3",
   "language": "python",
   "name": "python3"
  },
  "language_info": {
   "codemirror_mode": {
    "name": "ipython",
    "version": 3
   },
   "file_extension": ".py",
   "mimetype": "text/x-python",
   "name": "python",
   "nbconvert_exporter": "python",
   "pygments_lexer": "ipython3",
   "version": "3.10.4"
  },
  "orig_nbformat": 4
 },
 "nbformat": 4,
 "nbformat_minor": 2
}
